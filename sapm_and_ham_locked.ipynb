{
  "cells": [
    {
      "cell_type": "markdown",
      "metadata": {
        "id": "view-in-github",
        "colab_type": "text"
      },
      "source": [
        "<a href=\"https://colab.research.google.com/github/AtifQureshi110/Fine-Tune/blob/main/sapm_and_ham_locked.ipynb\" target=\"_parent\"><img src=\"https://colab.research.google.com/assets/colab-badge.svg\" alt=\"Open In Colab\"/></a>"
      ]
    },
    {
      "cell_type": "markdown",
      "metadata": {
        "id": "_LiDA0Nd8fpl"
      },
      "source": [
        "### Libraries Installation."
      ]
    },
    {
      "cell_type": "code",
      "execution_count": null,
      "metadata": {
        "id": "TZg0be6t8fpl"
      },
      "outputs": [],
      "source": [
        "import warnings\n",
        "# Ignore all warnings\n",
        "warnings.filterwarnings(\"ignore\")"
      ]
    },
    {
      "cell_type": "code",
      "execution_count": null,
      "metadata": {
        "colab": {
          "base_uri": "https://localhost:8080/"
        },
        "id": "C7VqLOUw8fpm",
        "outputId": "61cf0ec8-4212-4a60-d702-69d11736eaaa"
      },
      "outputs": [
        {
          "name": "stdout",
          "output_type": "stream",
          "text": [
            "\u001b[2K     \u001b[90m━━━━━━━━━━━━━━━━━━━━━━━━━━━━━━━━━━━━━━━━\u001b[0m \u001b[32m4.9/4.9 MB\u001b[0m \u001b[31m44.3 MB/s\u001b[0m eta \u001b[36m0:00:00\u001b[0m\n",
            "\u001b[2K     \u001b[90m━━━━━━━━━━━━━━━━━━━━━━━━━━━━━━━━━━━━━━\u001b[0m \u001b[32m294.8/294.8 kB\u001b[0m \u001b[31m33.2 MB/s\u001b[0m eta \u001b[36m0:00:00\u001b[0m\n",
            "\u001b[2K     \u001b[90m━━━━━━━━━━━━━━━━━━━━━━━━━━━━━━━━━━━━━━━━\u001b[0m \u001b[32m6.6/6.6 MB\u001b[0m \u001b[31m106.6 MB/s\u001b[0m eta \u001b[36m0:00:00\u001b[0m\n",
            "\u001b[?25h"
          ]
        }
      ],
      "source": [
        "!pip  install transformers==4.22.1 -q"
      ]
    },
    {
      "cell_type": "code",
      "execution_count": null,
      "metadata": {
        "colab": {
          "background_save": true,
          "base_uri": "https://localhost:8080/",
          "height": 121
        },
        "id": "pmIWojtP8fpn",
        "outputId": "1eb2c04c-8873-4ca1-f7b4-29faf143e9b2"
      },
      "outputs": [
        {
          "name": "stdout",
          "output_type": "stream",
          "text": [
            "4.22.1\n"
          ]
        }
      ],
      "source": [
        "import transformers\n",
        "print(transformers.__version__)"
      ]
    },
    {
      "cell_type": "code",
      "execution_count": null,
      "metadata": {
        "colab": {
          "background_save": true
        },
        "id": "jpG2KMkW8fpo"
      },
      "outputs": [],
      "source": [
        "!pip install -U tensorflow==2.10 -q\n",
        "!pip install keras -q\n",
        "!pip install tensorflow_probability==0.12.2 -q"
      ]
    },
    {
      "cell_type": "code",
      "execution_count": null,
      "metadata": {
        "colab": {
          "background_save": true,
          "base_uri": "https://localhost:8080/"
        },
        "id": "EYJkBnYg8fpp",
        "outputId": "a74ba548-57a9-4023-e41a-f8f60adcbec9"
      },
      "outputs": [
        {
          "name": "stdout",
          "output_type": "stream",
          "text": [
            "2.10.0\n",
            "2.10.0\n"
          ]
        }
      ],
      "source": [
        "import tensorflow as tf\n",
        "import keras\n",
        "print(tf.__version__)\n",
        "print(keras.__version__)"
      ]
    },
    {
      "cell_type": "markdown",
      "metadata": {
        "id": "84gGONjn8fpp"
      },
      "source": [
        "### Importing Libraries"
      ]
    },
    {
      "cell_type": "code",
      "execution_count": null,
      "metadata": {
        "colab": {
          "background_save": true
        },
        "id": "FiNhFv_58fpq"
      },
      "outputs": [],
      "source": [
        "# Load the pre-trained DistilBERT model for sequence classification\n",
        "from transformers import DistilBertTokenizer, TFDistilBertForSequenceClassification, TextClassificationPipeline, TFTrainingArguments\n",
        "import tensorflow as tf"
      ]
    },
    {
      "cell_type": "code",
      "execution_count": null,
      "metadata": {
        "colab": {
          "background_save": true
        },
        "id": "bTJIkRdE8fpq"
      },
      "outputs": [],
      "source": [
        "import pandas as pd"
      ]
    },
    {
      "cell_type": "code",
      "execution_count": null,
      "metadata": {
        "colab": {
          "background_save": true
        },
        "id": "fBTZe5G28fpr"
      },
      "outputs": [],
      "source": [
        "from sklearn.model_selection import train_test_split"
      ]
    },
    {
      "cell_type": "code",
      "execution_count": null,
      "metadata": {
        "colab": {
          "background_save": true
        },
        "id": "vrMGBD0r8fpr"
      },
      "outputs": [],
      "source": [
        "import numpy as np"
      ]
    },
    {
      "cell_type": "code",
      "execution_count": null,
      "metadata": {
        "colab": {
          "base_uri": "https://localhost:8080/"
        },
        "id": "DR8krpBW8fps",
        "outputId": "2ce5c8a1-ac19-4466-9a0d-6a74d1a50c69"
      },
      "outputs": [
        {
          "name": "stdout",
          "output_type": "stream",
          "text": [
            "Mounted at /content/drive\n"
          ]
        }
      ],
      "source": [
        "from google.colab import drive\n",
        "drive.mount('/content/drive')"
      ]
    },
    {
      "cell_type": "markdown",
      "metadata": {
        "id": "zX9Ytdfx8fpt"
      },
      "source": [
        "### Load tokenizer, model, and pipeline"
      ]
    },
    {
      "cell_type": "code",
      "execution_count": null,
      "metadata": {
        "colab": {
          "base_uri": "https://localhost:8080/",
          "height": 252,
          "referenced_widgets": [
            "a9df22a4aac849619db04be703d90e4b",
            "d7278d19f6e74e8096cd9887e69275a6",
            "7f22f63b0b804575bff4abfd86d35c6b",
            "71781c5082074649b97fb96c6be9c170"
          ]
        },
        "id": "p5naUse38fpu",
        "outputId": "2e27e4a1-0722-44e8-cb1b-cdfbf4f05370"
      },
      "outputs": [
        {
          "data": {
            "application/vnd.jupyter.widget-view+json": {
              "model_id": "a9df22a4aac849619db04be703d90e4b",
              "version_major": 2,
              "version_minor": 0
            },
            "text/plain": [
              "Downloading (…)solve/main/vocab.txt:   0%|          | 0.00/232k [00:00<?, ?B/s]"
            ]
          },
          "metadata": {},
          "output_type": "display_data"
        },
        {
          "data": {
            "application/vnd.jupyter.widget-view+json": {
              "model_id": "d7278d19f6e74e8096cd9887e69275a6",
              "version_major": 2,
              "version_minor": 0
            },
            "text/plain": [
              "Downloading (…)okenizer_config.json:   0%|          | 0.00/28.0 [00:00<?, ?B/s]"
            ]
          },
          "metadata": {},
          "output_type": "display_data"
        },
        {
          "data": {
            "application/vnd.jupyter.widget-view+json": {
              "model_id": "7f22f63b0b804575bff4abfd86d35c6b",
              "version_major": 2,
              "version_minor": 0
            },
            "text/plain": [
              "Downloading (…)lve/main/config.json:   0%|          | 0.00/483 [00:00<?, ?B/s]"
            ]
          },
          "metadata": {},
          "output_type": "display_data"
        },
        {
          "data": {
            "application/vnd.jupyter.widget-view+json": {
              "model_id": "71781c5082074649b97fb96c6be9c170",
              "version_major": 2,
              "version_minor": 0
            },
            "text/plain": [
              "Downloading tf_model.h5:   0%|          | 0.00/363M [00:00<?, ?B/s]"
            ]
          },
          "metadata": {},
          "output_type": "display_data"
        },
        {
          "name": "stderr",
          "output_type": "stream",
          "text": [
            "Some layers from the model checkpoint at distilbert-base-uncased were not used when initializing TFDistilBertForSequenceClassification: ['vocab_projector', 'activation_13', 'vocab_transform', 'vocab_layer_norm']\n",
            "- This IS expected if you are initializing TFDistilBertForSequenceClassification from the checkpoint of a model trained on another task or with another architecture (e.g. initializing a BertForSequenceClassification model from a BertForPreTraining model).\n",
            "- This IS NOT expected if you are initializing TFDistilBertForSequenceClassification from the checkpoint of a model that you expect to be exactly identical (initializing a BertForSequenceClassification model from a BertForSequenceClassification model).\n",
            "Some layers of TFDistilBertForSequenceClassification were not initialized from the model checkpoint at distilbert-base-uncased and are newly initialized: ['dropout_19', 'pre_classifier', 'classifier']\n",
            "You should probably TRAIN this model on a down-stream task to be able to use it for predictions and inference.\n"
          ]
        }
      ],
      "source": [
        "# Define pretrained tokenizer and model\n",
        "model_id = 'distilbert-base-uncased'\n",
        "tokenizer = DistilBertTokenizer.from_pretrained(model_id)\n",
        "model = TFDistilBertForSequenceClassification.from_pretrained(model_id, num_labels=2)\n",
        "#pipeline = TextClassificationPipeline(model=model, tokenizer=tokenizer, device=0)  # Specify device if needed"
      ]
    },
    {
      "cell_type": "markdown",
      "metadata": {
        "id": "ASQfgABh8fpv"
      },
      "source": [
        "### Data"
      ]
    },
    {
      "cell_type": "code",
      "execution_count": null,
      "metadata": {
        "id": "R0IwxQen8fpv"
      },
      "outputs": [],
      "source": [
        "# data from https://www.kaggle.com/datasets/balaka18/email-spam-classification-dataset-csv\n",
        "\n",
        "file_path=\"/content/drive/MyDrive/BERT/spam_ham_Bert_binary/spam.csv\"\n",
        "\n",
        "df = pd.read_csv(file_path,encoding = \"ISO-8859-1\")"
      ]
    },
    {
      "cell_type": "code",
      "execution_count": null,
      "metadata": {
        "id": "QBmlM_sm8fpw"
      },
      "outputs": [],
      "source": [
        "df.drop(['Unnamed: 2',\t'Unnamed: 3',\t'Unnamed: 4'], axis=1, inplace=True)"
      ]
    },
    {
      "cell_type": "code",
      "execution_count": null,
      "metadata": {
        "id": "J5xU3fZP8fpx"
      },
      "outputs": [],
      "source": [
        "df.rename(columns={'v1':'type','v2':'text'},inplace=True)"
      ]
    },
    {
      "cell_type": "code",
      "execution_count": null,
      "metadata": {
        "id": "36VwrLft8fpx"
      },
      "outputs": [],
      "source": [
        "from sklearn.preprocessing import LabelEncoder\n",
        "label_encoder = LabelEncoder()\n",
        "df['type_encoded'] = label_encoder.fit_transform(df['type'])"
      ]
    },
    {
      "cell_type": "code",
      "execution_count": null,
      "metadata": {
        "id": "gX8akYDY8fpy"
      },
      "outputs": [],
      "source": [
        "df[\"text_word_count\"] = df['text'].apply(lambda x: len(x.split()))"
      ]
    },
    {
      "cell_type": "code",
      "execution_count": null,
      "metadata": {
        "colab": {
          "base_uri": "https://localhost:8080/",
          "height": 424
        },
        "id": "w-ldvCf28fpz",
        "outputId": "7f55f712-fc65-435c-f397-89c6f05aa538"
      },
      "outputs": [
        {
          "data": {
            "text/html": [
              "\n",
              "  <div id=\"df-1492c85f-0a0a-4f21-af0e-3a5bc003c5f2\" class=\"colab-df-container\">\n",
              "    <div>\n",
              "<style scoped>\n",
              "    .dataframe tbody tr th:only-of-type {\n",
              "        vertical-align: middle;\n",
              "    }\n",
              "\n",
              "    .dataframe tbody tr th {\n",
              "        vertical-align: top;\n",
              "    }\n",
              "\n",
              "    .dataframe thead th {\n",
              "        text-align: right;\n",
              "    }\n",
              "</style>\n",
              "<table border=\"1\" class=\"dataframe\">\n",
              "  <thead>\n",
              "    <tr style=\"text-align: right;\">\n",
              "      <th></th>\n",
              "      <th>type</th>\n",
              "      <th>text</th>\n",
              "      <th>type_encoded</th>\n",
              "      <th>text_word_count</th>\n",
              "    </tr>\n",
              "  </thead>\n",
              "  <tbody>\n",
              "    <tr>\n",
              "      <th>0</th>\n",
              "      <td>ham</td>\n",
              "      <td>Go until jurong point, crazy.. Available only ...</td>\n",
              "      <td>0</td>\n",
              "      <td>20</td>\n",
              "    </tr>\n",
              "    <tr>\n",
              "      <th>1</th>\n",
              "      <td>ham</td>\n",
              "      <td>Ok lar... Joking wif u oni...</td>\n",
              "      <td>0</td>\n",
              "      <td>6</td>\n",
              "    </tr>\n",
              "    <tr>\n",
              "      <th>2</th>\n",
              "      <td>spam</td>\n",
              "      <td>Free entry in 2 a wkly comp to win FA Cup fina...</td>\n",
              "      <td>1</td>\n",
              "      <td>28</td>\n",
              "    </tr>\n",
              "    <tr>\n",
              "      <th>3</th>\n",
              "      <td>ham</td>\n",
              "      <td>U dun say so early hor... U c already then say...</td>\n",
              "      <td>0</td>\n",
              "      <td>11</td>\n",
              "    </tr>\n",
              "    <tr>\n",
              "      <th>4</th>\n",
              "      <td>ham</td>\n",
              "      <td>Nah I don't think he goes to usf, he lives aro...</td>\n",
              "      <td>0</td>\n",
              "      <td>13</td>\n",
              "    </tr>\n",
              "    <tr>\n",
              "      <th>...</th>\n",
              "      <td>...</td>\n",
              "      <td>...</td>\n",
              "      <td>...</td>\n",
              "      <td>...</td>\n",
              "    </tr>\n",
              "    <tr>\n",
              "      <th>5567</th>\n",
              "      <td>spam</td>\n",
              "      <td>This is the 2nd time we have tried 2 contact u...</td>\n",
              "      <td>1</td>\n",
              "      <td>30</td>\n",
              "    </tr>\n",
              "    <tr>\n",
              "      <th>5568</th>\n",
              "      <td>ham</td>\n",
              "      <td>Will Ì_ b going to esplanade fr home?</td>\n",
              "      <td>0</td>\n",
              "      <td>8</td>\n",
              "    </tr>\n",
              "    <tr>\n",
              "      <th>5569</th>\n",
              "      <td>ham</td>\n",
              "      <td>Pity, * was in mood for that. So...any other s...</td>\n",
              "      <td>0</td>\n",
              "      <td>10</td>\n",
              "    </tr>\n",
              "    <tr>\n",
              "      <th>5570</th>\n",
              "      <td>ham</td>\n",
              "      <td>The guy did some bitching but I acted like i'd...</td>\n",
              "      <td>0</td>\n",
              "      <td>26</td>\n",
              "    </tr>\n",
              "    <tr>\n",
              "      <th>5571</th>\n",
              "      <td>ham</td>\n",
              "      <td>Rofl. Its true to its name</td>\n",
              "      <td>0</td>\n",
              "      <td>6</td>\n",
              "    </tr>\n",
              "  </tbody>\n",
              "</table>\n",
              "<p>5572 rows × 4 columns</p>\n",
              "</div>\n",
              "    <div class=\"colab-df-buttons\">\n",
              "\n",
              "  <div class=\"colab-df-container\">\n",
              "    <button class=\"colab-df-convert\" onclick=\"convertToInteractive('df-1492c85f-0a0a-4f21-af0e-3a5bc003c5f2')\"\n",
              "            title=\"Convert this dataframe to an interactive table.\"\n",
              "            style=\"display:none;\">\n",
              "\n",
              "  <svg xmlns=\"http://www.w3.org/2000/svg\" height=\"24px\" viewBox=\"0 -960 960 960\">\n",
              "    <path d=\"M120-120v-720h720v720H120Zm60-500h600v-160H180v160Zm220 220h160v-160H400v160Zm0 220h160v-160H400v160ZM180-400h160v-160H180v160Zm440 0h160v-160H620v160ZM180-180h160v-160H180v160Zm440 0h160v-160H620v160Z\"/>\n",
              "  </svg>\n",
              "    </button>\n",
              "\n",
              "  <style>\n",
              "    .colab-df-container {\n",
              "      display:flex;\n",
              "      gap: 12px;\n",
              "    }\n",
              "\n",
              "    .colab-df-convert {\n",
              "      background-color: #E8F0FE;\n",
              "      border: none;\n",
              "      border-radius: 50%;\n",
              "      cursor: pointer;\n",
              "      display: none;\n",
              "      fill: #1967D2;\n",
              "      height: 32px;\n",
              "      padding: 0 0 0 0;\n",
              "      width: 32px;\n",
              "    }\n",
              "\n",
              "    .colab-df-convert:hover {\n",
              "      background-color: #E2EBFA;\n",
              "      box-shadow: 0px 1px 2px rgba(60, 64, 67, 0.3), 0px 1px 3px 1px rgba(60, 64, 67, 0.15);\n",
              "      fill: #174EA6;\n",
              "    }\n",
              "\n",
              "    .colab-df-buttons div {\n",
              "      margin-bottom: 4px;\n",
              "    }\n",
              "\n",
              "    [theme=dark] .colab-df-convert {\n",
              "      background-color: #3B4455;\n",
              "      fill: #D2E3FC;\n",
              "    }\n",
              "\n",
              "    [theme=dark] .colab-df-convert:hover {\n",
              "      background-color: #434B5C;\n",
              "      box-shadow: 0px 1px 3px 1px rgba(0, 0, 0, 0.15);\n",
              "      filter: drop-shadow(0px 1px 2px rgba(0, 0, 0, 0.3));\n",
              "      fill: #FFFFFF;\n",
              "    }\n",
              "  </style>\n",
              "\n",
              "    <script>\n",
              "      const buttonEl =\n",
              "        document.querySelector('#df-1492c85f-0a0a-4f21-af0e-3a5bc003c5f2 button.colab-df-convert');\n",
              "      buttonEl.style.display =\n",
              "        google.colab.kernel.accessAllowed ? 'block' : 'none';\n",
              "\n",
              "      async function convertToInteractive(key) {\n",
              "        const element = document.querySelector('#df-1492c85f-0a0a-4f21-af0e-3a5bc003c5f2');\n",
              "        const dataTable =\n",
              "          await google.colab.kernel.invokeFunction('convertToInteractive',\n",
              "                                                    [key], {});\n",
              "        if (!dataTable) return;\n",
              "\n",
              "        const docLinkHtml = 'Like what you see? Visit the ' +\n",
              "          '<a target=\"_blank\" href=https://colab.research.google.com/notebooks/data_table.ipynb>data table notebook</a>'\n",
              "          + ' to learn more about interactive tables.';\n",
              "        element.innerHTML = '';\n",
              "        dataTable['output_type'] = 'display_data';\n",
              "        await google.colab.output.renderOutput(dataTable, element);\n",
              "        const docLink = document.createElement('div');\n",
              "        docLink.innerHTML = docLinkHtml;\n",
              "        element.appendChild(docLink);\n",
              "      }\n",
              "    </script>\n",
              "  </div>\n",
              "\n",
              "\n",
              "<div id=\"df-49641652-936c-40db-8e1e-e5644179f135\">\n",
              "  <button class=\"colab-df-quickchart\" onclick=\"quickchart('df-49641652-936c-40db-8e1e-e5644179f135')\"\n",
              "            title=\"Suggest charts.\"\n",
              "            style=\"display:none;\">\n",
              "\n",
              "<svg xmlns=\"http://www.w3.org/2000/svg\" height=\"24px\"viewBox=\"0 0 24 24\"\n",
              "     width=\"24px\">\n",
              "    <g>\n",
              "        <path d=\"M19 3H5c-1.1 0-2 .9-2 2v14c0 1.1.9 2 2 2h14c1.1 0 2-.9 2-2V5c0-1.1-.9-2-2-2zM9 17H7v-7h2v7zm4 0h-2V7h2v10zm4 0h-2v-4h2v4z\"/>\n",
              "    </g>\n",
              "</svg>\n",
              "  </button>\n",
              "\n",
              "<style>\n",
              "  .colab-df-quickchart {\n",
              "      --bg-color: #E8F0FE;\n",
              "      --fill-color: #1967D2;\n",
              "      --hover-bg-color: #E2EBFA;\n",
              "      --hover-fill-color: #174EA6;\n",
              "      --disabled-fill-color: #AAA;\n",
              "      --disabled-bg-color: #DDD;\n",
              "  }\n",
              "\n",
              "  [theme=dark] .colab-df-quickchart {\n",
              "      --bg-color: #3B4455;\n",
              "      --fill-color: #D2E3FC;\n",
              "      --hover-bg-color: #434B5C;\n",
              "      --hover-fill-color: #FFFFFF;\n",
              "      --disabled-bg-color: #3B4455;\n",
              "      --disabled-fill-color: #666;\n",
              "  }\n",
              "\n",
              "  .colab-df-quickchart {\n",
              "    background-color: var(--bg-color);\n",
              "    border: none;\n",
              "    border-radius: 50%;\n",
              "    cursor: pointer;\n",
              "    display: none;\n",
              "    fill: var(--fill-color);\n",
              "    height: 32px;\n",
              "    padding: 0;\n",
              "    width: 32px;\n",
              "  }\n",
              "\n",
              "  .colab-df-quickchart:hover {\n",
              "    background-color: var(--hover-bg-color);\n",
              "    box-shadow: 0 1px 2px rgba(60, 64, 67, 0.3), 0 1px 3px 1px rgba(60, 64, 67, 0.15);\n",
              "    fill: var(--button-hover-fill-color);\n",
              "  }\n",
              "\n",
              "  .colab-df-quickchart-complete:disabled,\n",
              "  .colab-df-quickchart-complete:disabled:hover {\n",
              "    background-color: var(--disabled-bg-color);\n",
              "    fill: var(--disabled-fill-color);\n",
              "    box-shadow: none;\n",
              "  }\n",
              "\n",
              "  .colab-df-spinner {\n",
              "    border: 2px solid var(--fill-color);\n",
              "    border-color: transparent;\n",
              "    border-bottom-color: var(--fill-color);\n",
              "    animation:\n",
              "      spin 1s steps(1) infinite;\n",
              "  }\n",
              "\n",
              "  @keyframes spin {\n",
              "    0% {\n",
              "      border-color: transparent;\n",
              "      border-bottom-color: var(--fill-color);\n",
              "      border-left-color: var(--fill-color);\n",
              "    }\n",
              "    20% {\n",
              "      border-color: transparent;\n",
              "      border-left-color: var(--fill-color);\n",
              "      border-top-color: var(--fill-color);\n",
              "    }\n",
              "    30% {\n",
              "      border-color: transparent;\n",
              "      border-left-color: var(--fill-color);\n",
              "      border-top-color: var(--fill-color);\n",
              "      border-right-color: var(--fill-color);\n",
              "    }\n",
              "    40% {\n",
              "      border-color: transparent;\n",
              "      border-right-color: var(--fill-color);\n",
              "      border-top-color: var(--fill-color);\n",
              "    }\n",
              "    60% {\n",
              "      border-color: transparent;\n",
              "      border-right-color: var(--fill-color);\n",
              "    }\n",
              "    80% {\n",
              "      border-color: transparent;\n",
              "      border-right-color: var(--fill-color);\n",
              "      border-bottom-color: var(--fill-color);\n",
              "    }\n",
              "    90% {\n",
              "      border-color: transparent;\n",
              "      border-bottom-color: var(--fill-color);\n",
              "    }\n",
              "  }\n",
              "</style>\n",
              "\n",
              "  <script>\n",
              "    async function quickchart(key) {\n",
              "      const quickchartButtonEl =\n",
              "        document.querySelector('#' + key + ' button');\n",
              "      quickchartButtonEl.disabled = true;  // To prevent multiple clicks.\n",
              "      quickchartButtonEl.classList.add('colab-df-spinner');\n",
              "      try {\n",
              "        const charts = await google.colab.kernel.invokeFunction(\n",
              "            'suggestCharts', [key], {});\n",
              "      } catch (error) {\n",
              "        console.error('Error during call to suggestCharts:', error);\n",
              "      }\n",
              "      quickchartButtonEl.classList.remove('colab-df-spinner');\n",
              "      quickchartButtonEl.classList.add('colab-df-quickchart-complete');\n",
              "    }\n",
              "    (() => {\n",
              "      let quickchartButtonEl =\n",
              "        document.querySelector('#df-49641652-936c-40db-8e1e-e5644179f135 button');\n",
              "      quickchartButtonEl.style.display =\n",
              "        google.colab.kernel.accessAllowed ? 'block' : 'none';\n",
              "    })();\n",
              "  </script>\n",
              "</div>\n",
              "    </div>\n",
              "  </div>\n"
            ],
            "text/plain": [
              "      type                                               text  type_encoded  \\\n",
              "0      ham  Go until jurong point, crazy.. Available only ...             0   \n",
              "1      ham                      Ok lar... Joking wif u oni...             0   \n",
              "2     spam  Free entry in 2 a wkly comp to win FA Cup fina...             1   \n",
              "3      ham  U dun say so early hor... U c already then say...             0   \n",
              "4      ham  Nah I don't think he goes to usf, he lives aro...             0   \n",
              "...    ...                                                ...           ...   \n",
              "5567  spam  This is the 2nd time we have tried 2 contact u...             1   \n",
              "5568   ham              Will Ì_ b going to esplanade fr home?             0   \n",
              "5569   ham  Pity, * was in mood for that. So...any other s...             0   \n",
              "5570   ham  The guy did some bitching but I acted like i'd...             0   \n",
              "5571   ham                         Rofl. Its true to its name             0   \n",
              "\n",
              "      text_word_count  \n",
              "0                  20  \n",
              "1                   6  \n",
              "2                  28  \n",
              "3                  11  \n",
              "4                  13  \n",
              "...               ...  \n",
              "5567               30  \n",
              "5568                8  \n",
              "5569               10  \n",
              "5570               26  \n",
              "5571                6  \n",
              "\n",
              "[5572 rows x 4 columns]"
            ]
          },
          "execution_count": 23,
          "metadata": {},
          "output_type": "execute_result"
        }
      ],
      "source": [
        "df"
      ]
    },
    {
      "cell_type": "markdown",
      "metadata": {
        "id": "zbvm5nH38fpz"
      },
      "source": [
        "### Selecting Target column"
      ]
    },
    {
      "cell_type": "code",
      "execution_count": null,
      "metadata": {
        "id": "pDlxM7ES8fp0"
      },
      "outputs": [],
      "source": [
        "X = df['text'].to_list()\n",
        "y = df['type_encoded'].to_list()"
      ]
    },
    {
      "cell_type": "code",
      "execution_count": null,
      "metadata": {
        "id": "MZBymf8W8fp0"
      },
      "outputs": [],
      "source": [
        "#Train Test SPlit\n",
        "X_train, y_train, X_test, y_test = train_test_split(X, y, test_size = 0.2, random_state = 0 )"
      ]
    },
    {
      "cell_type": "code",
      "execution_count": null,
      "metadata": {
        "colab": {
          "base_uri": "https://localhost:8080/"
        },
        "id": "4tWi4Cnj8fp1",
        "outputId": "718be224-8357-4766-b3d9-c6a58d12e909"
      },
      "outputs": [
        {
          "name": "stdout",
          "output_type": "stream",
          "text": [
            "X_train :4457\n",
            "y_train: 1115\n",
            "X_test:4457\n",
            "y_test: 1115\n"
          ]
        }
      ],
      "source": [
        "print(f\"X_train :{len(X_train)}\\ny_train: {len(y_train)}\\nX_test:{len(X_test)}\\ny_test: {len(y_test)}\")"
      ]
    },
    {
      "cell_type": "markdown",
      "metadata": {
        "id": "c3E8IJ3l8fp2"
      },
      "source": [
        "### Preprocess your text data"
      ]
    },
    {
      "cell_type": "code",
      "execution_count": null,
      "metadata": {
        "id": "iX1omC5J8fp2"
      },
      "outputs": [],
      "source": [
        "# ----- 1. Preprocess data -----#\n",
        "train_encodings = tokenizer(X_train, truncation=True, padding=True, return_tensors='tf')\n",
        "test_encodings = tokenizer(y_train, truncation=True, padding=True, return_tensors='tf')"
      ]
    },
    {
      "cell_type": "code",
      "execution_count": null,
      "metadata": {
        "id": "J5IvYnSD8fp2"
      },
      "outputs": [],
      "source": [
        "train_labels = np.array(X_test)\n",
        "test_labels = np.array(y_test)"
      ]
    },
    {
      "cell_type": "markdown",
      "metadata": {
        "id": "ISn0mQil8fp3"
      },
      "source": [
        "### Create TensorFlow datasets"
      ]
    },
    {
      "cell_type": "code",
      "execution_count": null,
      "metadata": {
        "id": "E2P_rjvC8fp4"
      },
      "outputs": [],
      "source": [
        "# Create TensorFlow datasets\n",
        "train_dataset = tf.data.Dataset.from_tensor_slices((dict(train_encodings), train_labels))\n",
        "test_dataset = tf.data.Dataset.from_tensor_slices((dict(test_encodings), test_labels))"
      ]
    },
    {
      "cell_type": "markdown",
      "metadata": {
        "id": "J1DjKVwv8fp4"
      },
      "source": [
        "### Define and configure training_args"
      ]
    },
    {
      "cell_type": "code",
      "execution_count": null,
      "metadata": {
        "id": "ME1GPEup8fp5"
      },
      "outputs": [],
      "source": [
        "# ----- 2. Fine-tune pretrained model -----#\n",
        "training_args = TFTrainingArguments(\n",
        "    output_dir='./results',\n",
        "    num_train_epochs=3,\n",
        "    per_device_train_batch_size=8,\n",
        "    per_device_eval_batch_size=64,\n",
        "    warmup_steps=500,\n",
        "    weight_decay=0.01,\n",
        "    logging_dir='./logs',\n",
        "    evaluation_strategy=\"steps\",\n",
        "    eval_steps=500,\n",
        "    save_steps=500,\n",
        ")"
      ]
    },
    {
      "cell_type": "code",
      "execution_count": null,
      "metadata": {
        "colab": {
          "base_uri": "https://localhost:8080/"
        },
        "id": "L1knbv3d8fp5",
        "outputId": "cbb89983-6864-4834-eb31-b50a3f1d8d67"
      },
      "outputs": [
        {
          "name": "stderr",
          "output_type": "stream",
          "text": [
            "Some layers from the model checkpoint at distilbert-base-uncased were not used when initializing TFDistilBertForSequenceClassification: ['vocab_projector', 'activation_13', 'vocab_transform', 'vocab_layer_norm']\n",
            "- This IS expected if you are initializing TFDistilBertForSequenceClassification from the checkpoint of a model trained on another task or with another architecture (e.g. initializing a BertForSequenceClassification model from a BertForPreTraining model).\n",
            "- This IS NOT expected if you are initializing TFDistilBertForSequenceClassification from the checkpoint of a model that you expect to be exactly identical (initializing a BertForSequenceClassification model from a BertForSequenceClassification model).\n",
            "Some layers of TFDistilBertForSequenceClassification were not initialized from the model checkpoint at distilbert-base-uncased and are newly initialized: ['dropout_39', 'pre_classifier', 'classifier']\n",
            "You should probably TRAIN this model on a down-stream task to be able to use it for predictions and inference.\n"
          ]
        }
      ],
      "source": [
        "trainer_model = TFDistilBertForSequenceClassification.from_pretrained(model_id, num_labels=2)"
      ]
    },
    {
      "cell_type": "code",
      "execution_count": null,
      "metadata": {
        "id": "Rsvhbs1I8fp6"
      },
      "outputs": [],
      "source": [
        "def build_model():\n",
        "    model = TFDistilBertForSequenceClassification.from_pretrained(model_id, num_labels=2)\n",
        "\n",
        "    model.compile(optimizer=tf.keras.optimizers.Adam(learning_rate=training_args.learning_rate),\n",
        "\n",
        "                  loss=tf.keras.losses.SparseCategoricalCrossentropy(from_logits=True),\n",
        "\n",
        "                  metrics=['accuracy'])\n",
        "\n",
        "    return model"
      ]
    },
    {
      "cell_type": "code",
      "execution_count": null,
      "metadata": {
        "colab": {
          "base_uri": "https://localhost:8080/"
        },
        "id": "IDznw_5N8fp7",
        "outputId": "6f0cec26-e37e-48b2-d9d1-79820376b0f9"
      },
      "outputs": [
        {
          "name": "stderr",
          "output_type": "stream",
          "text": [
            "Some layers from the model checkpoint at distilbert-base-uncased were not used when initializing TFDistilBertForSequenceClassification: ['vocab_projector', 'activation_13', 'vocab_transform', 'vocab_layer_norm']\n",
            "- This IS expected if you are initializing TFDistilBertForSequenceClassification from the checkpoint of a model trained on another task or with another architecture (e.g. initializing a BertForSequenceClassification model from a BertForPreTraining model).\n",
            "- This IS NOT expected if you are initializing TFDistilBertForSequenceClassification from the checkpoint of a model that you expect to be exactly identical (initializing a BertForSequenceClassification model from a BertForSequenceClassification model).\n",
            "Some layers of TFDistilBertForSequenceClassification were not initialized from the model checkpoint at distilbert-base-uncased and are newly initialized: ['dropout_59', 'pre_classifier', 'classifier']\n",
            "You should probably TRAIN this model on a down-stream task to be able to use it for predictions and inference.\n"
          ]
        }
      ],
      "source": [
        "# Create your model within the distribution strategy scope\n",
        "with training_args.strategy.scope():\n",
        "    trainer_model = build_model()"
      ]
    },
    {
      "cell_type": "code",
      "execution_count": null,
      "metadata": {
        "colab": {
          "background_save": true,
          "base_uri": "https://localhost:8080/"
        },
        "id": "OPFRShiP8fp7",
        "outputId": "00cdc928-ab65-4b7d-a6a2-7c8dfd78b93c"
      },
      "outputs": [
        {
          "name": "stdout",
          "output_type": "stream",
          "text": [
            "Epoch 1/3\n",
            "558/558 [==============================] - 134s 213ms/step - loss: 0.0733 - accuracy: 0.9814\n",
            "Epoch 2/3\n",
            "558/558 [==============================] - 119s 214ms/step - loss: 0.0266 - accuracy: 0.9933\n",
            "Epoch 3/3\n",
            "558/558 [==============================] - 119s 213ms/step - loss: 0.0169 - accuracy: 0.9960\n"
          ]
        },
        {
          "data": {
            "text/plain": [
              "<keras.callbacks.History at 0x7bc7fa4a4340>"
            ]
          },
          "execution_count": 48,
          "metadata": {},
          "output_type": "execute_result"
        }
      ],
      "source": [
        "# fine tuning\n",
        "trainer_model.fit(train_dataset.batch(training_args.per_device_train_batch_size), epochs=training_args.num_train_epochs)"
      ]
    },
    {
      "cell_type": "code",
      "execution_count": null,
      "metadata": {
        "colab": {
          "base_uri": "https://localhost:8080/"
        },
        "id": "gNXkDcUV8fp8",
        "outputId": "738e3a4f-9b34-4166-83bb-f237f605a901"
      },
      "outputs": [
        {
          "name": "stdout",
          "output_type": "stream",
          "text": [
            "18/18 [==============================] - 9s 372ms/step - loss: 0.0281 - accuracy: 0.9892\n",
            "Evaluation results: [0.028064459562301636, 0.9892376661300659]\n"
          ]
        }
      ],
      "source": [
        "results = trainer_model.evaluate(test_dataset.batch(training_args.per_device_eval_batch_size))\n",
        "print(\"Evaluation results:\", results)"
      ]
    },
    {
      "cell_type": "code",
      "execution_count": null,
      "metadata": {
        "colab": {
          "base_uri": "https://localhost:8080/"
        },
        "id": "UojZgcSQ8fp9",
        "outputId": "5c325ae2-a64c-4239-d412-410f7288f33b"
      },
      "outputs": [
        {
          "name": "stdout",
          "output_type": "stream",
          "text": [
            "18/18 [==============================] - 8s 370ms/step\n"
          ]
        },
        {
          "data": {
            "text/plain": [
              "TFSequenceClassifierOutput(loss=None, logits=array([[ 4.5625515, -4.238049 ],\n",
              "       [ 4.538792 , -4.227904 ],\n",
              "       [ 3.999307 , -3.713762 ],\n",
              "       ...,\n",
              "       [ 4.540735 , -4.2453303],\n",
              "       [ 4.5586953, -4.243898 ],\n",
              "       [ 4.305965 , -3.972886 ]], dtype=float32), hidden_states=None, attentions=None)"
            ]
          },
          "execution_count": 40,
          "metadata": {},
          "output_type": "execute_result"
        }
      ],
      "source": [
        "# Predict labels for the test dataset\n",
        "predictions = trainer_model.predict(test_dataset.batch(training_args.per_device_eval_batch_size))\n",
        "predictions"
      ]
    },
    {
      "cell_type": "code",
      "execution_count": null,
      "metadata": {
        "colab": {
          "base_uri": "https://localhost:8080/"
        },
        "id": "GAKJ_VZV8fp-",
        "outputId": "4ed96c07-68f6-4552-ca01-376ee2beac3e"
      },
      "outputs": [
        {
          "data": {
            "text/plain": [
              "TFSequenceClassifierOutput(loss=None, logits=array([[ 4.5625515, -4.238049 ],\n",
              "       [ 4.538792 , -4.227904 ],\n",
              "       [ 3.999307 , -3.713762 ],\n",
              "       ...,\n",
              "       [ 4.540735 , -4.2453303],\n",
              "       [ 4.5586953, -4.243898 ],\n",
              "       [ 4.305965 , -3.972886 ]], dtype=float32), hidden_states=None, attentions=None)"
            ]
          },
          "execution_count": 41,
          "metadata": {},
          "output_type": "execute_result"
        }
      ],
      "source": [
        "predictions"
      ]
    },
    {
      "cell_type": "code",
      "execution_count": null,
      "metadata": {
        "id": "Ab6CVTOk8fp-"
      },
      "outputs": [],
      "source": [
        "# # Define a threshold value for converting scores to labels\n",
        "# threshold = 0.5  # Adjust this threshold as needed\n",
        "\n",
        "# # Assuming df is your DataFrame\n",
        "# df['predicted_label'] = np.where(predictions.logits > threshold, 1, 0)\n",
        "\n",
        "# # Display the DataFrame with predicted labels\n",
        "# print(df)"
      ]
    },
    {
      "cell_type": "code",
      "execution_count": null,
      "metadata": {
        "id": "MN35JNT88fp_"
      },
      "outputs": [],
      "source": [
        "# from transformers import TFTrainer, TFTrainingArguments\n",
        "# import tensorflow as tf\n",
        "\n",
        "# # Get the predicted labels from the predictions\n",
        "# #predicted_labels = predictions.predictions.argmax(axis=1).numpy()\n",
        "# predicted_labels = tf.argmax(predictions.logits, axis=1).numpy()\n",
        "\n",
        "# # Get the actual labels from the test dataset\n",
        "# actual_labels = [label.numpy() for _, label in test_dataset]\n",
        "\n",
        "# # Compare the predicted labels with the actual labels\n",
        "# for i in range(len(predicted_labels)):\n",
        "#     print(f\"Example {i + 1} - Actual: {actual_labels[i]}, Predicted: {predicted_labels[i]}\")"
      ]
    },
    {
      "cell_type": "code",
      "execution_count": null,
      "metadata": {
        "id": "09igrAzU8fqA"
      },
      "outputs": [],
      "source": [
        "# # Fit the model to the training dataset\n",
        "# #trainer_model.fit(train_dataset.batch(training_args.per_device_train_batch_size), epochs=training_args.num_train_epochs)\n",
        "# model.fit(train_dataset.batch(training_args.per_device_train_batch_size), epochs=training_args.num_train_epochs)\n",
        "# # Predict labels for the test dataset\n",
        "# #predictions = trainer_model.predict(test_dataset.batch(training_args.per_device_eval_batch_size))\n",
        "# predictions = model.predict(test_dataset.batch(training_args.per_device_eval_batch_size))\n",
        "\n",
        "# # Get the predicted labels and logits from the predictions\n",
        "# predicted_labels = tf.argmax(predictions.predictions, axis=1).numpy()\n",
        "# predicted_logits = predictions.predictions.numpy()\n",
        "\n",
        "# # Get the actual labels from the test dataset\n",
        "# actual_labels = [label.numpy() for _, label in test_dataset]\n"
      ]
    },
    {
      "cell_type": "markdown",
      "metadata": {
        "id": "CJNfm7r88fqA"
      },
      "source": [
        "### Saving & Loading the model"
      ]
    },
    {
      "cell_type": "code",
      "execution_count": null,
      "metadata": {
        "id": "er7Wpsy-8fqB"
      },
      "outputs": [],
      "source": [
        "#Saving & Loading the model\n",
        "save_directory = \"/saved_models\"\n",
        "model.save_pretrained(save_directory)"
      ]
    },
    {
      "cell_type": "code",
      "execution_count": null,
      "metadata": {
        "colab": {
          "base_uri": "https://localhost:8080/"
        },
        "id": "wxJPdNxO8fqB",
        "outputId": "290e8367-a273-4909-dbfb-d141ccdb1711"
      },
      "outputs": [
        {
          "data": {
            "text/plain": [
              "('/saved_models/tokenizer_config.json',\n",
              " '/saved_models/special_tokens_map.json',\n",
              " '/saved_models/vocab.txt',\n",
              " '/saved_models/added_tokens.json')"
            ]
          },
          "execution_count": 43,
          "metadata": {},
          "output_type": "execute_result"
        }
      ],
      "source": [
        "tokenizer.save_pretrained(save_directory)"
      ]
    },
    {
      "cell_type": "markdown",
      "metadata": {
        "id": "o5NwVFHK8fqC"
      },
      "source": [
        "### Loading Pre-Trained Model"
      ]
    },
    {
      "cell_type": "code",
      "execution_count": null,
      "metadata": {
        "colab": {
          "base_uri": "https://localhost:8080/"
        },
        "id": "PYr3OU-t8fqC",
        "outputId": "56dd905b-d7ef-495b-bd74-4bc0ea512146"
      },
      "outputs": [
        {
          "name": "stderr",
          "output_type": "stream",
          "text": [
            "Some layers from the model checkpoint at /saved_models were not used when initializing TFDistilBertForSequenceClassification: ['dropout_19']\n",
            "- This IS expected if you are initializing TFDistilBertForSequenceClassification from the checkpoint of a model trained on another task or with another architecture (e.g. initializing a BertForSequenceClassification model from a BertForPreTraining model).\n",
            "- This IS NOT expected if you are initializing TFDistilBertForSequenceClassification from the checkpoint of a model that you expect to be exactly identical (initializing a BertForSequenceClassification model from a BertForSequenceClassification model).\n",
            "Some layers of TFDistilBertForSequenceClassification were not initialized from the model checkpoint at /saved_models and are newly initialized: ['dropout_79']\n",
            "You should probably TRAIN this model on a down-stream task to be able to use it for predictions and inference.\n"
          ]
        }
      ],
      "source": [
        "#Loading Pre-Trained Model\n",
        "tokenizer_fine_tuned = DistilBertTokenizer.from_pretrained(save_directory)\n",
        "model_fine_tuned = TFDistilBertForSequenceClassification.from_pretrained(save_directory)"
      ]
    },
    {
      "cell_type": "code",
      "execution_count": null,
      "metadata": {
        "colab": {
          "base_uri": "https://localhost:8080/"
        },
        "id": "FYZ_CbjN7m4V",
        "outputId": "e8ba96c7-79d1-41cf-c069-ebbf078ad3f6"
      },
      "outputs": [
        {
          "data": {
            "text/plain": [
              "['Aight should I just plan to come up later tonight?',\n",
              " 'Was the farm open?',\n",
              " 'I sent my scores to sophas and i had to do secondary application for a few schools. I think if you are thinking of applying, do a research on cost also. Contact joke ogunrinde, her school is one me the less expensive ones',\n",
              " 'Was gr8 to see that message. So when r u leaving? Congrats dear. What school and wat r ur plans.',\n",
              " \"In that case I guess I'll see you at campus lodge\",\n",
              " \"Nothing will ever be easy. But don't be looking for a reason not to take a risk on life and love\",\n",
              " 'If you were/are free i can give. Otherwise nalla adi entey nattil kittum',\n",
              " \"Hey i will be late... i'm at amk. Need to drink tea or coffee\",\n",
              " 'Hey are we going for the lo lesson or gym? ',\n",
              " '85233 FREE>Ringtone!Reply REAL',\n",
              " '\\\\The world suffers a lot... Not because of the violence of bad people. But because of the silence of good people!\\\\\"',\n",
              " 'Hey!!! I almost forgot ... Happy B-day babe ! I love ya!!',\n",
              " 'I wish u were here. I feel so alone',\n",
              " 'sports fans - get the latest sports news str* 2 ur mobile 1 wk FREE PLUS a FREE TONE Txt SPORT ON to 8007 www.getzed.co.uk 0870141701216+ norm 4txt/120p ',\n",
              " \"LMAO where's your fish memory when I need it?\",\n",
              " 'Oh is it! Which brand?',\n",
              " \"Want 2 get laid tonight? Want real Dogging locations sent direct 2 ur mob? Join the UK's largest Dogging Network bt Txting GRAVEL to 69888! Nt. ec2a. 31p.msg@150p\",\n",
              " 'I to am looking forward to all the sex cuddling.. Only two more sleeps ',\n",
              " 'K:)k:)what are detail you want to transfer?acc no enough?',\n",
              " 'Done it but internet connection v slow and can\\x89Û÷t send it. Will try again later or first thing tomo.',\n",
              " 'I am late. I will be there at',\n",
              " \"Hello! How's you and how did saturday go? I was just texting to see if you'd decided to do anything tomo. Not that i'm trying to invite myself or anything!\",\n",
              " 'Your brother is a genius',\n",
              " 'When are you going to ride your bike?',\n",
              " 'XXXMobileMovieClub: To use your credit, click the WAP link in the next txt message or click here>> http://wap. xxxmobilemovieclub.com?n=QJKGIGHJJGCBL',\n",
              " 'What does the dance river do?',\n",
              " 'Fancy a shag? I do.Interested? sextextuk.com txt XXUK SUZY to 69876. Txts cost 1.50 per msg. TnCs on website. X',\n",
              " 'Do u still have plumbers tape and a wrench we could borrow?',\n",
              " 'CALL 09090900040 & LISTEN TO EXTREME DIRTY LIVE CHAT GOING ON IN THE OFFICE RIGHT NOW TOTAL PRIVACY NO ONE KNOWS YOUR [sic] LISTENING 60P MIN 24/7MP 0870753331018+',\n",
              " '\\\\NONE!NOWHERE IKNO DOESDISCOUNT!SHITINNIT\\\\\"\"',\n",
              " 'Still i have not checked it da. . .',\n",
              " 'Dorothy@kiefer.com (Bank of Granite issues Strong-Buy) EXPLOSIVE PICK FOR OUR MEMBERS *****UP OVER 300% *********** Nasdaq Symbol CDGT That is a $5.00 per..',\n",
              " 'Long time. You remember me today.',\n",
              " 'Indians r poor but India is not a poor country. Says one of the swiss bank directors. He says that \\\\ &lt;#&gt;  lac crore\\\\\" of Indian money is deposited in swiss banks which can be used for \\'taxless\\' budget for  &lt;#&gt;  yrs. Can give  &lt;#&gt;  crore jobs to all Indians. From any village to Delhi 4 lane roads. Forever free power suply to more than  &lt;#&gt;  social projects. Every citizen can get monthly  &lt;#&gt; /- for  &lt;#&gt;  yrs. No need of World Bank &amp; IMF loan. Think how our money is blocked by rich politicians. We have full rights against corrupt politicians. Itna forward karo ki pura INDIA padhe.g.m.\\\\\"\"',\n",
              " 'Bloomberg -Message center +447797706009 Why wait? Apply for your future http://careers. bloomberg.com',\n",
              " \"I think i've fixed it can you send a test message?\",\n",
              " 'Hi ....My engagement has been fixd on  &lt;#&gt; th of next month. I know its really shocking bt....hmm njan vilikkam....t ws al of a sudn;-(.',\n",
              " 'Please tell me not all of my car keys are in your purse',\n",
              " 'Really good:)dhanush rocks once again:)',\n",
              " 'Congratulations! Thanks to a good friend U have WON the å£2,000 Xmas prize. 2 claim is easy, just call 08718726971 NOW! Only 10p per minute. BT-national-rate.',\n",
              " \"The affidavit says  &lt;#&gt;  E Twiggs St, division g, courtroom  &lt;#&gt; , &lt;TIME&gt;  AM. I'll double check and text you again tomorrow\",\n",
              " 'A swt thought: \\\\Nver get tired of doing little things 4 lovable persons..\\\\\" Coz..somtimes those little things occupy d biggest part in their Hearts.. Gud ni8\"',\n",
              " 'Sorry da:)i was thought of calling you lot of times:)lil busy.i will call you at noon..',\n",
              " 'Yo my trip got postponed, you still stocked up?',\n",
              " \"But that's on ebay it might be less elsewhere.\",\n",
              " 'I came hostel. I m going to sleep. Plz call me up before class. Hrishi.',\n",
              " 'Goin to workout lor... Muz lose e fats... ',\n",
              " \"sure, but make sure he knows we ain't smokin yet\",\n",
              " 'RGENT! This is the 2nd attempt to contact U!U have WON å£1250 CALL 09071512433 b4 050703 T&CsBCM4235WC1N3XX. callcost 150ppm mobilesvary. maxå£7. 50',\n",
              " 'True. Its easier with her here.',\n",
              " 'Nope... C Ì_ then...',\n",
              " 'S:)but he had some luck.2 catches put down:)',\n",
              " 'HI DARLIN I FINISH AT 3 DO U 1 2 PICK ME UP OR MEET ME? TEXT BACK ON THIS NUMBER LUV KATE XXX',\n",
              " 'Please sen :)my kind advice :-)please come here and try:-)',\n",
              " 'Ryder unsold.now gibbs.',\n",
              " 'Call to the number which is available in appointment. And ask to connect the call to waheed fathima.',\n",
              " 'U still painting ur wall?',\n",
              " 'So when you gonna get rimac access ',\n",
              " 'Do you want 750 anytime any network mins 150 text and a NEW video phone for only five pounds per week call 08000776320 now or reply for delivery Tomorrow',\n",
              " 'Yun ah.now Ì_ wkg where?btw if Ì_ go nus sc. ÌÏ wana specialise in wad?',\n",
              " 'I wont do anything de.',\n",
              " 'Horrible gal. Me in sch doing some stuff. How come u got mc?',\n",
              " 'U\\x89Ûªve Bin Awarded å£50 to Play 4 Instant Cash. Call 08715203028 To Claim. EVERY 9th Player Wins Min å£50-å£500. OptOut 08718727870',\n",
              " 'Yeah why not, is the gang all ready',\n",
              " 'SMS. ac Blind Date 4U!: Rodds1 is 21/m from Aberdeen, United Kingdom. Check Him out http://img. sms. ac/W/icmb3cktz8r7!-4 no Blind Dates send HIDE',\n",
              " 'I.ll get there tomorrow and send it to you',\n",
              " 'I need to come home and give you some good lovin...',\n",
              " 'Huh? 6 also cannot? Then only how many mistakes?',\n",
              " 'What happen dear. Why you silent. I am tensed',\n",
              " 'Think i might have to give it a miss. Am teaching til twelve, then have lecture at two. Damn this working thing.',\n",
              " 'No da if you run that it activate the full version da.',\n",
              " '07732584351 - Rodger Burns - MSG = We tried to call you re your reply to our sms for a free nokia mobile + free camcorder. Please call now 08000930705 for delivery tomorrow',\n",
              " 'Haha just kidding, papa needs drugs',\n",
              " 'I had it already..sabarish asked me to go..',\n",
              " 'Your account has been refilled successfully by INR  &lt;DECIMAL&gt; . Your KeralaCircle prepaid account balance is Rs  &lt;DECIMAL&gt; . Your Transaction ID is KR &lt;#&gt; .',\n",
              " 'Still chance there. If you search hard you will get it..let have a try :)',\n",
              " \"When is school starting. Where will you stay. What's the weather like. And the food. Do you have a social support system like friends in the school. All these things are important.\",\n",
              " \"I can't describe how lucky you are that I'm actually awake by noon\",\n",
              " 'Sat right? Okay thanks... ',\n",
              " 'It means u could not keep ur words.',\n",
              " 'Great. Hope you are using your connections from mode men also cos you can never know why old friends can lead you to today',\n",
              " \"Thts god's gift for birds as humans hav some natural gift frm god..\",\n",
              " 'I know a few people I can hit up and fuck to the yes',\n",
              " 'I wanted to ask Ì_ to wait 4 me to finish lect. Cos my lect finishes in an hour anyway.',\n",
              " \"Yeah I should be able to, I'll text you when I'm ready to meet up\",\n",
              " \"You can donate å£2.50 to UNICEF's Asian Tsunami disaster support fund by texting DONATE to 864233. å£2.50 will be added to your next bill\",\n",
              " 'Thank you princess! You are so sexy...',\n",
              " 'CLAIRE here am havin borin time & am now alone U wanna cum over 2nite? Chat now 09099725823 hope 2 C U Luv CLAIRE xx Callså£1/minmoremobsEMSPOBox45PO139WA',\n",
              " 'Haha awesome, omw back now then',\n",
              " '1) Go to write msg 2) Put on Dictionary mode 3)Cover the screen with hand, 4)Press  &lt;#&gt; . 5)Gently remove Ur hand.. Its interesting..:)',\n",
              " 'Sary just need Tim in the bollox &it hurt him a lot so he tol me!',\n",
              " 'Yup Ì_ not comin :-(',\n",
              " 'All boys made fun of me today. Ok i have no problem. I just sent one message just for fun',\n",
              " \"I shall book chez jules for half eight, if that's ok with you?\",\n",
              " \"I'm awake oh. What's up.\",\n",
              " \"I told her I had a Dr appt next week. She thinks I'm gonna die. I told her its just a check. Nothing to be worried about. But she didn't listen.\",\n",
              " 'Yes see ya not on the dot',\n",
              " \"Hi I'm sue. I am 20 years old and work as a lapdancer. I love sex. Text me live - I'm i my bedroom now. text SUE to 89555. By TextOperator G2 1DA 150ppmsg 18+\",\n",
              " 'Yeah sure, give me a couple minutes to track down my wallet',\n",
              " 'How much she payed. Suganya.',\n",
              " 'Tessy..pls do me a favor. Pls convey my birthday wishes to Nimya..pls dnt forget it. Today is her birthday Shijas',\n",
              " 'i am seeking a lady in the street and a freak in the sheets. Is that you?',\n",
              " 'Sir, waiting for your letter.',\n",
              " 'Sure thing big man. i have hockey elections at 6, shouldn\\x89Û÷t go on longer than an hour though',\n",
              " 'Good morning princess! Happy New Year!',\n",
              " \"Stop the story. I've told him i've returned it and he's saying i should not re order it.\",\n",
              " \"Neva mind it's ok..\",\n",
              " \"How's it feel? Mr. Your not my real Valentine just my yo Valentine even tho u hardly play!!\",\n",
              " 'I got it before the new year cos yetunde said she wanted to surprise you with it but when i didnt see money i returned it mid january before the  &lt;#&gt; day return period ended.',\n",
              " 'I cant pick the phone right now. Pls send a message',\n",
              " \"I can. But it will tell quite long, cos i haven't finish my film yet...\",\n",
              " 'ÌÏ called dad oredi...',\n",
              " \"Its sunny in california. The weather's just cool\",\n",
              " \"Our Prashanthettan's mother passed away last night. pray for her and family.\",\n",
              " 'Not course. Only maths one day one chapter with in one month we can finish.',\n",
              " \"Sorry, I'll call later\",\n",
              " 'What he said is not the matter. My mind saying some other matter is there.',\n",
              " \"True dear..i sat to pray evening and felt so.so i sms'd you in some time...\",\n",
              " 'I liked the new mobile',\n",
              " 'Yes. I come to nyc for audiitions and am trying to relocate.',\n",
              " \"OK i'm waliking ard now... Do u wan me 2 buy anything go ur house?\",\n",
              " \"Sorry, I'll call later\",\n",
              " 'And stop being an old man. You get to build snowman snow angels and snowball fights.',\n",
              " 'I wan but too early lei... Me outside now wun b home so early... Neva mind then...',\n",
              " 'I can do that! I want to please you both inside and outside the bedroom...',\n",
              " 'CERI U REBEL! SWEET DREAMZ ME LITTLE BUDDY!! C YA 2MORO! WHO NEEDS BLOKES',\n",
              " '&lt;#&gt;  am I think? Should say on syllabus',\n",
              " \"I'm in solihull, | do you want anything?\",\n",
              " 'Check with nuerologist.',\n",
              " \"Ok. Can be later showing around 8-8:30 if you want + cld have drink before. Wld prefer not to spend money on nosh if you don't mind, as doing that nxt wk.\",\n",
              " 'Will you be here for food',\n",
              " 'URGENT! Your Mobile No was awarded a å£2,000 Bonus Caller Prize on 1/08/03! This is our 2nd attempt to contact YOU! Call 0871-4719-523 BOX95QU BT National Rate',\n",
              " 'Sending you greetings of joy and happiness. Do have a gr8 evening',\n",
              " 'Nothing. I meant that once the money enters your account here, the bank will remove its flat rate. Someone transfered  &lt;#&gt;  to my account and  &lt;#&gt; dollars got removed. So the banks differ and charges also differ.be sure you trust the 9ja person you are sending account details to cos...',\n",
              " 'I don know account details..i will ask my mom and send you.my mom is out of reach now.',\n",
              " 'Poyyarikatur,kolathupalayam,unjalur post,erode dis, &lt;#&gt; .',\n",
              " \"I do know what u mean,  is the king of not havin credit! I'm goin2bed now. Night night sweet! Only1more sleep! \",\n",
              " 'How are you with moneY...as in to you...money aint a thing....how are you sha!',\n",
              " \"Dunno dat's wat he told me. Ok lor...\",\n",
              " \"How are you doing. How's the queen. Are you going for the royal wedding\",\n",
              " 'Lol ... Oh no babe, I wont be sliding into your place after midnight, but thanks for the invite',\n",
              " 'Beautiful Truth against Gravity.. Read carefully: \\\\Our heart feels light when someone is in it.. But it feels very heavy when someone leaves it..\\\\\" GOODMORNING\"',\n",
              " 'When did dad get back.',\n",
              " 'Ok... But bag again..',\n",
              " 'Dear Voucher holder Have your next meal on us. Use the following link on your pc 2 enjoy a 2 4 1 dining experiencehttp://www.vouch4me.com/etlp/dining.asp',\n",
              " \"Why don't you wait 'til at least wednesday to see if you get your .\",\n",
              " 'Great News! Call FREEFONE 08006344447 to claim your guaranteed å£1000 CASH or å£2000 gift. Speak to a live operator NOW!',\n",
              " \"Fyi I'm gonna call you sporadically starting at like  &lt;#&gt;  bc we are not not doin this shit\",\n",
              " 'Hiya do u like the hlday pics looked horrible in them so took mo out! Hows the camp Amrca thing? Speak soon Serena:)',\n",
              " 'Nope... Think i will go for it on monday... Sorry i replied so late',\n",
              " 'Well i will watch shrek in 3D!!B)',\n",
              " 'O shore are you takin the bus',\n",
              " 'Please call our customer service representative on FREEPHONE 0808 145 4742 between 9am-11pm as you have WON a guaranteed å£1000 cash or å£5000 prize!',\n",
              " \"Well at this right I'm gonna have to get up and check today's steam sales/pee so text me when you want me to come get you\",\n",
              " 'S...from the training manual it show there is no tech process:)its all about password reset and troubleshooting:)',\n",
              " 'Oh and by the way you do have more food in your fridge! Want to go out for a meal tonight? ',\n",
              " '* Will have two more cartons off u and is very pleased with shelves',\n",
              " 'He dint tell anything. He is angry on me that why you told to abi.',\n",
              " 'Urgent! call 09066350750 from your landline. Your complimentary 4* Ibiza Holiday or 10,000 cash await collection SAE T&Cs PO BOX 434 SK3 8WP 150 ppm 18+',\n",
              " 'Kallis wont bat in 2nd innings.',\n",
              " 'How come i din c Ì_... Yup i cut my hair...',\n",
              " 'PRIVATE! Your 2003 Account Statement for 07815296484 shows 800 un-redeemed S.I.M. points. Call 08718738001 Identifier Code 41782 Expires 18/11/04 ',\n",
              " 'Unni thank you dear for the recharge..Rakhesh',\n",
              " 'URGENT! Your Mobile number has been awarded with a å£2000 prize GUARANTEED. Call 09061790121 from land line. Claim 3030. Valid 12hrs only 150ppm',\n",
              " 'PRIVATE! Your 2003 Account Statement for 07808 XXXXXX shows 800 un-redeemed S. I. M. points. Call 08719899217 Identifier Code: 41685 Expires 07/11/04',\n",
              " '7 wonders in My WORLD 7th You 6th Ur style 5th Ur smile 4th Ur Personality 3rd Ur Nature 2nd Ur SMS and 1st \\\\Ur Lovely Friendship\\\\\"... good morning dear\"',\n",
              " 'Huh but i got lesson at 4 lei n i was thinkin of going to sch earlier n i tot of parkin at kent vale...  ',\n",
              " 'Din i tell u jus now 420',\n",
              " 'Hahaha..use your brain dear',\n",
              " \"Get a FREE mobile video player FREE movie. To collect text GO to 89105. Its free! Extra films can be ordered t's and c's apply. 18 yrs only\",\n",
              " '\\\\ALRITE HUNNY!WOT U UP 2 2NITE? DIDNT END UP GOIN DOWN TOWN JUS DA PUB INSTEAD! JUS CHILLIN AT DA MO IN ME BEDROOM!LOVE JEN XXX.\\\\\"\"',\n",
              " 'Jesus armand really is trying to tell everybody he can find',\n",
              " 'Captain vijaykanth is doing comedy in captain tv..he is drunken :)',\n",
              " 'Should I head straight there or what',\n",
              " 'XMAS Prize draws! We are trying to contact U. Todays draw shows that you have won a å£2000 prize GUARANTEED. Call 09058094565 from land line. Valid 12hrs only',\n",
              " 'Valentines Day Special! Win over å£1000 in our quiz and take your partner on the trip of a lifetime! Send GO to 83600 now. 150p/msg rcvd. CustCare:08718720201',\n",
              " 'Sounds great! Are you home now?',\n",
              " 'Take us out shopping and Mark will distract Isaiah.=D',\n",
              " 'No, but you told me you were going, before you got drunk!',\n",
              " 'Horrible bf... I now v hungry...',\n",
              " 'Ok...',\n",
              " 'Hi, Mobile no.  &lt;#&gt;  has added you in their contact list on www.fullonsms.com It s a great place to send free sms to people For more visit fullonsms.com',\n",
              " 'Ok i thk i got it. Then u wan me 2 come now or wat?',\n",
              " 'Hope you are feeling great. Pls fill me in. Abiola',\n",
              " 'Oh ok..',\n",
              " 'HI BABE IM AT HOME NOW WANNA DO SOMETHING? XX',\n",
              " 'Hm good morning, headache anyone? :-)',\n",
              " 'Sounds like there could be a lot of time spent in that chastity device boy ... *grins* ... Or take your beatings like a good dog. Going to lounge in a nice long bath now ?',\n",
              " 'Shall i come to get pickle',\n",
              " 'Someone U know has asked our dating service 2 contact you! Cant Guess who? CALL 09058091854 NOW all will be revealed. PO BOX385 M6 6WU',\n",
              " 'Hey... What time is your driving on fri? We go for evaluation on fri?',\n",
              " 'K actually can you guys meet me at the sunoco on howard? It should be right on the way',\n",
              " \"Ugh its been a long day. I'm exhausted. Just want to cuddle up and take a nap\",\n",
              " \"That sucks. I'll go over so u can do my hair. You'll do it free right?\",\n",
              " \"Sorry i've not gone to that place. I.ll do so tomorrow. Really sorry.\",\n",
              " 'No:-)i got rumour that you going to buy apartment in chennai:-)',\n",
              " 'TBS/PERSOLVO. been chasing us since Sept forå£38 definitely not paying now thanks to your information. We will ignore them. Kath. Manchester.',\n",
              " '\\\\Hey j! r u feeling any better',\n",
              " 'S.this will increase the chance of winning.',\n",
              " 'As usual..iam fine, happy &amp; doing well..:)',\n",
              " 'Someone U know has asked our dating service 2 contact you! Cant guess who? CALL 09058095107 NOW all will be revealed. POBox 7, S3XY 150p ',\n",
              " 'Spook up your mob with a Halloween collection of a logo & pic message plus a free eerie tone, txt CARD SPOOK to 8007 zed 08701417012150p per logo/pic',\n",
              " 'REMINDER FROM O2: To get 2.50 pounds free call credit and details of great offers pls reply 2 this text with your valid name, house no and postcode',\n",
              " 'Can you do a mag meeting this avo at some point?',\n",
              " 'Staff of placement training in Amrita college.',\n",
              " \"So how's scotland. Hope you are not over showing your JJC tendencies. Take care. Live the dream\",\n",
              " 'I prefer my free days... Tues, wed, fri oso can... ÌÏ ask those workin lor...',\n",
              " \"Wat's da model num of ur phone?\",\n",
              " 'K. I will sent it again',\n",
              " 'Do you want a new video handset? 750 anytime any network mins? Half Price Line Rental? Camcorder? Reply or call 08000930705 for delivery tomorrow',\n",
              " \"I'll see if I can swing by in a bit, got some things to take care of here firsg\",\n",
              " 'I love to give massages. I use lots of baby oil... What is your fave position?',\n",
              " 'Wait 2 min..stand at bus stop',\n",
              " '\\\\Keep ur problems in ur heart',\n",
              " 'Yes. Rent is very expensive so its the way we save.',\n",
              " 'Wow ... I love you sooo much, you know ? I can barely stand it ! I wonder how your day goes and if you are well, my love ... I think of you and miss you',\n",
              " \"Lol ... I really need to remember to eat when I'm drinking but I do appreciate you keeping me company that night babe *smiles*\",\n",
              " 'I had a good time too. Its nice to do something a bit different with my weekends for a change. See ya soon',\n",
              " 'Its posible dnt live in  &lt;#&gt; century cm frwd n thnk different',\n",
              " 'Lmao!nice 1',\n",
              " \"Imagine Life WITHOUT ME... see.. How fast u are searching me?Don't worry.. l'm always there To disturb U.. Goodnoon..:)\",\n",
              " \"Wat time r Ì_ going to xin's hostel?\",\n",
              " 'You have 1 new message. Call 0207-083-6089',\n",
              " 'I will come tomorrow di',\n",
              " \"Nope but i'm going home now then go pump petrol lor... Like going 2 rain soon...\",\n",
              " 'A Boy loved a gal. He propsd bt she didnt mind. He gv lv lttrs, Bt her frnds threw thm. Again d boy decided 2 aproach d gal , dt time a truck was speeding towards d gal. Wn it was about 2 hit d girl,d boy ran like hell n saved her. She asked \\'hw cn u run so fast?\\' D boy replied \\\\Boost is d secret of my energy\\\\\" n instantly d girl shouted \\\\\"our energy\\\\\" n Thy lived happily 2gthr drinking boost evrydy Moral of d story:- I hv free msgs:D;): gud ni8\"',\n",
              " 'Oh really? perform, write a paper, go to a movie AND be home by midnight, huh?',\n",
              " \"alright. Thanks for the advice. Enjoy your night out. I'ma try to get some sleep...\",\n",
              " 'Is that what time you want me to come?',\n",
              " \"Nvm... I'm going to wear my sport shoes anyway... I'm going to be late leh.\",\n",
              " 'How much u trying to get?',\n",
              " 'There are some nice pubs near here or there is Frankie n Bennys near the warner cinema?',\n",
              " 'Awesome question with a cute answer: Someone asked a boy \\\\how is ur life?\\\\\" . . He smiled &amp; answered: . . \\\\\"She is fine!\\\\\" Gudnite\"',\n",
              " 'Ok.ok ok..then..whats ur todays plan',\n",
              " 'No it will reach by 9 only. She telling she will be there. I dont know',\n",
              " 'Thanks for yesterday sir. You have been wonderful. Hope you enjoyed the burial. MojiBiola',\n",
              " 'Easy ah?sen got selected means its good..',\n",
              " '\\\\GRAN ONLYFOUND OUT AFEW DAYS AGO.CUSOON HONI\\\\\"\"',\n",
              " 'Dai  &lt;#&gt;  naal eruku.',\n",
              " 'True lov n care wil nevr go unrecognized. though somone often makes mistakes when valuing it. but they will definitly undrstnd once when they start missing it.',\n",
              " 'Tomorrow i am not going to theatre. . . So i can come wherever u call me. . . Tell me where and when to come tomorrow',\n",
              " \"Hi elaine, is today's meeting confirmed?\",\n",
              " 'You are a winner U have been specially selected 2 receive å£1000 cash or a 4* holiday (flights inc) speak to a live operator 2 claim 0871277810810',\n",
              " 'Take something for pain. If it moves however to any side in the next 6hrs see a doctor.',\n",
              " \"Cause I'm not freaky lol\",\n",
              " \"Well keep in mind I've only got enough gas for one more round trip barring a sudden influx of cash\",\n",
              " 'Got it! It looks scrumptious... daddy wants to eat you all night long!',\n",
              " 'It should take about  &lt;#&gt;  min',\n",
              " 'Today is \\\\song dedicated day..\\\\\" Which song will u dedicate for me? Send this to all ur valuable frnds but first rply me...\"',\n",
              " 'No that just means you have a fat head',\n",
              " 'Ahhh. Work. I vaguely remember that! What does it feel like? Lol',\n",
              " 'Like  &lt;#&gt; , same question',\n",
              " 'X course it 2yrs. Just so her messages on messenger lik you r sending me',\n",
              " 'Weightloss! No more girl friends. Make loads of money on ebay or something. And give thanks to God.',\n",
              " 'SO IS TH GOWER MATE WHICH IS WHERE I AM!?! HOW R U MAN? ALL IS GOOD IN WALES ILL B BACK åÔMORROW. C U THIS WK? WHO WAS THE MSG 4? åÐ RANDOM!',\n",
              " \"So your telling me I coulda been your real Valentine and I wasn't? U never pick me for NOTHING!!\",\n",
              " 'Ok thanx...',\n",
              " 'NO GIFTS!! You trying to get me to throw myself off a cliff or something?',\n",
              " \"Same here, but I consider walls and bunkers and shit important just because I never play on peaceful but I guess your place is high enough that it don't matter\",\n",
              " \"You are right. Meanwhile how's project twins comin up\",\n",
              " \"Nah, I'm a perpetual DD\",\n",
              " 'Are you going to write ccna exam this week??',\n",
              " \"Hey they r not watching movie tonight so i'll prob b home early...\",\n",
              " 'Jay told me already, will do',\n",
              " 'Or better still can you catch her and let ask her if she can sell  &lt;#&gt;  for me.',\n",
              " 'No i am not having not any movies in my laptop',\n",
              " 'Think ur smart ? Win å£200 this week in our weekly quiz, text PLAY to 85222 now!T&Cs WinnersClub PO BOX 84, M26 3UZ. 16+. GBP1.50/week',\n",
              " 'Thanks for this hope you had a good day today',\n",
              " 'Enjoy urself tmr...',\n",
              " 'Nothing. Can...',\n",
              " 'Marvel Mobile Play the official Ultimate Spider-man game (å£4.50) on ur mobile right now. Text SPIDER to 83338 for the game & we ll send u a FREE 8Ball wallpaper',\n",
              " 'K..i deleted my contact that why?',\n",
              " 'Should I have picked up a receipt or something earlier',\n",
              " 'Hope you are having a great day.',\n",
              " \"I'm there and I can see you, but you can't see me ? Maybe you should reboot ym ? I seen the buzz\",\n",
              " 'S:)8 min to go for lunch:)',\n",
              " 'ARR birthday today:) i wish him to get more oscar.',\n",
              " 'Please attend the phone:)',\n",
              " \"I'm very happy for you babe ! Woo hoo party on dude!\",\n",
              " \"I'm at work. Please call\",\n",
              " 'A link to your picture has been sent. You can also use http://alto18.co.uk/wave/wave.asp?o=44345',\n",
              " ', ow u dey.i paid 60,400thousad.i told  u would call . ',\n",
              " \"Then get some cash together and I'll text jason\",\n",
              " 'PS U no ur a grown up now right?',\n",
              " 'I taught that Ranjith sir called me. So only i sms like that. Becaus hes verifying about project. Prabu told today so only pa dont mistake me..',\n",
              " 'Thanks  and ! Or bomb and date as my phone wanted to say! ',\n",
              " 'No did you check? I got his detailed message now',\n",
              " 'Painful words- \\\\I thought being Happy was the most toughest thing on Earth... But',\n",
              " \"Good evening Sir, hope you are having a nice day. I wanted to bring it to your notice that I have been late in paying rent for the past few months and have had to pay a $ &lt;#&gt;  charge. I felt it would be inconsiderate of me to nag about something you give at great cost to yourself and that's why i didnt speak up. I however am in a recession and wont be able to pay the charge this month hence my askin well ahead of month's end. Can you please help. Thank you for everything.\",\n",
              " \"More people are dogging in your area now. Call 09090204448 and join like minded guys. Why not arrange 1 yourself. There's 1 this evening. Aå£1.50 minAPN LS278BB\",\n",
              " 'Did u got that persons story',\n",
              " 'You still at grand prix?',\n",
              " 'U can WIN å£100 of Music Gift Vouchers every week starting NOW Txt the word DRAW to 87066 TsCs www.Idew.com SkillGame, 1Winaweek, age16. 150ppermessSubscription',\n",
              " 'Watching tv now. I got new job :)',\n",
              " 'OH YEAH,AND HAV A GREAT TIME IN NEWQUAY-SEND ME A POSTCARD !1 LOOK AFTER ALL THE GIRLS WHILE IM GONE(U KNOW THE 1IM TALKIN BOUT!)xx',\n",
              " 'Pls confirm the time to collect the cheque.',\n",
              " 'Raji..pls do me a favour. Pls convey my Birthday wishes to Nimya. Pls. Today is her birthday.',\n",
              " \"Then mum's repent how?\",\n",
              " 'Cheers for the message Zogtorius. IåÕve been staring at my phone for an age deciding whether to text or not.',\n",
              " '7 wonders in My WORLD 7th You 6th Ur style 5th Ur smile 4th Ur Personality 3rd Ur Nature 2nd Ur SMS and 1st \\\\Ur Lovely Friendship\\\\\"... good morning dear\"',\n",
              " 'Oooh I got plenty of those!',\n",
              " 'We have sent JD for Customer Service cum Accounts Executive to ur mail id, For details contact us',\n",
              " 'Haha get used to driving to usf man, I know a lot of stoners',\n",
              " 'You are everywhere dirt, on the floor, the windows, even on my shirt. And sometimes when i open my mouth, you are all that comes flowing out. I dream of my world without you, then half my chores are out too. A time of joy for me, lots of tv shows i.ll see. But i guess like all things you just must exist, like rain, hail and mist, and when my time here is done, you and i become one.',\n",
              " \"Solve d Case : A Man Was Found Murdered On  &lt;DECIMAL&gt; . &lt;#&gt;  AfterNoon. 1,His wife called Police. 2,Police questioned everyone. 3,Wife: Sir,I was sleeping, when the murder took place. 4.Cook: I was cooking. 5.Gardener: I was picking vegetables. 6.House-Maid: I went 2 d post office. 7.Children: We went 2 play. 8.Neighbour: We went 2 a marriage. Police arrested d murderer Immediately. Who's It? Reply With Reason, If U r Brilliant.\",\n",
              " \"You'll not rcv any more msgs from the chat svc. For FREE Hardcore services text GO to: 69988 If u get nothing u must Age Verify with yr network & try again\",\n",
              " 'Not directly behind... Abt 4 rows behind Ì_...',\n",
              " \"No he didn't. Spring is coming early yay!\",\n",
              " 'Do you know why god created gap between your fingers..? So that, One who is made for you comes &amp; fills those gaps by holding your hand with LOVE..!',\n",
              " 'Good. do you think you could send me some pix? I would love to see your top and bottom...',\n",
              " 'Velly good, yes please!',\n",
              " 'I wnt to buy a BMW car urgently..its vry urgent.but hv a shortage of  &lt;#&gt; Lacs.there is no source to arng dis amt. &lt;#&gt; lacs..thats my prob',\n",
              " 'Please CALL 08712402972 immediately as there is an urgent message waiting for you',\n",
              " '\\\\I;m reaching in another 2 stops.\\\\\"\"',\n",
              " 'You best watch what you say cause I get drunk as a motherfucker',\n",
              " '* FREE* POLYPHONIC RINGTONE Text SUPER to 87131 to get your FREE POLY TONE of the week now! 16 SN PoBox202 NR31 7ZS subscription 450pw',\n",
              " 'I was slept that time.you there?',\n",
              " 'Better. Made up for Friday and stuffed myself like a pig yesterday. Now I feel bleh. But at least its not writhing pain kind of bleh.',\n",
              " 'ÌÏ still got lessons?  ÌÏ in sch?',\n",
              " 'Hello, As per request from  &lt;#&gt;  Rs.5 has been transfered to you',\n",
              " 'How are you, my Love ? Are you with your brother ? Time to talk english with him ? *grins* Say : Hey Muhommad, Penny says hello from across the sea',\n",
              " \"What time you think you'll have it? Need to know when I should be near campus\",\n",
              " 'Am surfing online store. For offers do you want to buy any thing.',\n",
              " 'YES! The only place in town to meet exciting adult singles is now in the UK. Txt CHAT to 86688 now! 150p/Msg.',\n",
              " \"Ee msg na poortiyagi odalebeku: Hanumanji 7 name 1-Hanuman 2-Bajarangabali 3-Maruti 4-Pavanaputra 5-Sankatmochan 6-Ramaduth 7-Mahaveer ee 7 name  &lt;#&gt;  janarige ivatte kalisidare next saturday olage ondu good news keluviri...! Maretare inde 1 dodda problum nalli siguviri idu matra  &lt;#&gt; % true.. Don't neglet.\",\n",
              " 'A å£400 XMAS REWARD IS WAITING FOR YOU! Our computer has randomly picked you from our loyal mobile customers to receive a å£400 reward. Just call 09066380611 ',\n",
              " 'I send the print  outs da.',\n",
              " 'You have 1 new message. Please call 08718738034.',\n",
              " \"That's necessarily respectful\",\n",
              " 'Free Top ringtone -sub to weekly ringtone-get 1st week free-send SUBPOLY to 81618-?3 per week-stop sms-08718727870',\n",
              " 'I want to be inside you every night...',\n",
              " 'Are you available for soiree on June 3rd?',\n",
              " \"Not much, just some textin'. How bout you?\",\n",
              " \"If you don't, your prize will go to another customer. T&C at www.t-c.biz 18+ 150p/min Polo Ltd Suite 373 London W1J 6HL Please call back if busy\",\n",
              " 'Show ur colours! Euro 2004 2-4-1 Offer! Get an England Flag & 3Lions tone on ur phone! Click on the following service message for info!',\n",
              " 'Webpage s not available!',\n",
              " 'You have 1 new message. Please call 08712400200.',\n",
              " 'Msg me when rajini comes.',\n",
              " \"I will reach office around  &lt;DECIMAL&gt; . &amp; my mobile have problem. You cann't get my voice. So call you asa i'll free\",\n",
              " 'I am on the way to ur home',\n",
              " \"Oh really?? Did you make it on air? What's your talent?\",\n",
              " \"I don't know, same thing that's wrong everyso often, he panicks starts goin on bout not bein good enough \\x89Û_\",\n",
              " \"That means from february to april i'll be getting a place to stay down there so i don't have to hustle back and forth during audition season as i have since my sister moved away from harlem.\",\n",
              " 'PLEASSSSSSSEEEEEE TEL ME V AVENT DONE SPORTSx',\n",
              " 'Once free call me sir. I am waiting for you.',\n",
              " \"You won't believe it but it's true. It's Incredible Txts! Reply G now to learn truly amazing things that will blow your mind. From O2FWD only 18p/txt\",\n",
              " \"Yeah that'd pretty much be the best case scenario\",\n",
              " 'Hmm .. Bits and pieces lol ... *sighs* ...',\n",
              " 'Good morning princess! Have a great day!',\n",
              " 'U definitely need a module from e humanities dis sem izzit? U wan 2 take other modules 1st?',\n",
              " \"Why don't you go tell your friend you're not sure you want to live with him because he smokes too much then spend hours begging him to come smoke\",\n",
              " 'Don know..he is watching film in computer..',\n",
              " 'I will once i get home',\n",
              " \"I was up all night too worrying about this appt. It's a shame we missed a girls night out with quizzes popcorn and you doing my hair.\",\n",
              " 'I love you both too :-)',\n",
              " \"Nothing just getting msgs by dis name wit different no's..\",\n",
              " 'Just sing HU. I think its also important to find someone female that know the place well preferably a citizen that is also smart to help you navigate through. Even things like choosing a phone plan require guidance. When in doubt ask especially girls.',\n",
              " 'Hey. For me there is no leave on friday. Wait i will ask my superior and tell you..',\n",
              " \"Yunny... I'm goin to be late\",\n",
              " \"That's good, because I need drugs\",\n",
              " 'Im sorry bout last nite it wasnåÕt ur fault it was me, spouse it was pmt or sumthin! U 4give me? I think u shldxxxx',\n",
              " 'Dunno leh cant remember mayb lor. So wat time r we meeting tmr?',\n",
              " 'Lmao but its so fun...',\n",
              " 'U have a secret admirer who is looking 2 make contact with U-find out who they R*reveal who thinks UR so special-call on 09058094565',\n",
              " 'Very hurting n meaningful lines ever: \\\\I compromised everything for my love',\n",
              " 'Oh... Kay... On sat right?',\n",
              " 'Call 09095350301 and send our girls into erotic ecstacy. Just 60p/min. To stop texts call 08712460324 (nat rate)',\n",
              " 'Thanx 4 sending me home...',\n",
              " \"Aight text me when you're back at mu and I'll swing by, need somebody to get the door for me\",\n",
              " 'TheMob> Check out our newest selection of content, Games, Tones, Gossip, babes and sport, Keep your mobile fit and funky text WAP to 82468',\n",
              " 'Tmrw. Im finishing 9 doors',\n",
              " 'S..antha num corrct dane',\n",
              " 'I know you are. Can you pls open the back?',\n",
              " 'As a valued customer, I am pleased to advise you that following recent review of your Mob No. you are awarded with a å£1500 Bonus Prize, call 09066364589',\n",
              " \"Don't b floppy... b snappy & happy! Only gay chat service with photo upload call 08718730666 (10p/min). 2 stop our texts call 08712460324\",\n",
              " 'SMS SERVICES. for your inclusive text credits, pls goto www.comuk.net login= 3qxj9 unsubscribe with STOP, no extra charge. help 08702840625.COMUK. 220-CM2 9AE',\n",
              " 'FREE RING TONE just text \\\\POLYS\\\\\" to 87131. Then every week get a new tone. 0870737910216yrs only å£1.50/wk.\"',\n",
              " 'No but the bluray player can',\n",
              " 'Hi. Wk been ok - on hols now! Yes on for a bit of a run. Forgot that i have hairdressers appointment at four so need to get home n shower beforehand. Does that cause prob for u?\\\\\"\\rham\"',\n",
              " 'Ummmmmaah Many many happy returns of d day my dear sweet heart.. HAPPY BIRTHDAY dear',\n",
              " \"I'm coming back on Thursday. Yay. Is it gonna be ok to get the money. Cheers. Oh yeah and how are you. Everything alright. Hows school. Or do you call it work now\",\n",
              " \"Yeah sure I'll leave in a min\",\n",
              " '4mths half price Orange line rental & latest camera phones 4 FREE. Had your phone 11mths ? Call MobilesDirect free on 08000938767 to update now! or2stoptxt',\n",
              " 'Mmm thats better now i got a roast down me! iåÕd b better if i had a few drinks down me 2! Good indian?',\n",
              " 'PRIVATE! Your 2003 Account Statement for shows 800 un-redeemed S.I.M. points. Call 08715203685 Identifier Code:4xx26 Expires 13/10/04',\n",
              " 'Must come later.. I normally bathe him in da afternoon mah..',\n",
              " 'Good day to You too.Pray for me.Remove the teeth as its painful maintaining other stuff.',\n",
              " 'I have lost 10 kilos as of today!',\n",
              " \"I'm done. I'm sorry. I hope your next space gives you everything you want. Remember all the furniture is yours. If i'm not around when you move it, just lock all the locks and leave the key with jenne.\",\n",
              " \"Annoying isn't it.\",\n",
              " 'GENT! We are trying to contact you. Last weekends draw shows that you won a å£1000 prize GUARANTEED. Call 09064012160. Claim Code K52. Valid 12hrs only. 150ppm',\n",
              " 'Erm. I thought the contract ran out the4th of october.',\n",
              " 'He is world famamus....',\n",
              " 'Are you still playing with gautham?',\n",
              " \"The guy at the car shop who was flirting with me got my phone number from the paperwork and called and texted me. I'm nervous because of course now he may have my address. Should i call his boss and tell him, knowing this may get him fired?\",\n",
              " \"I'm really sorry I lit your hair on fire\",\n",
              " 'Waiting in e car 4 my mum lor. U leh? Reach home already?',\n",
              " 'Wen ur lovable bcums angry wid u, dnt take it seriously.. Coz being angry is d most childish n true way of showing deep affection, care n luv!.. kettoda manda... Have nice day da.',\n",
              " 'Yeah, we can probably swing by once my roommate finishes up with his girl',\n",
              " 'Cool, what time you think you can get here?',\n",
              " 'YOU VE WON! Your 4* Costa Del Sol Holiday or å£5000 await collection. Call 09050090044 Now toClaim. SAE, TC s, POBox334, Stockport, SK38xh, Costå£1.50/pm, Max10mins',\n",
              " 'Go fool dont cheat others ok',\n",
              " 'Dont hesitate. You know this is the second time she has had weakness like that. So keep i notebook of what she eat and did the day before or if anything changed the day before so that we can be sure its nothing',\n",
              " 'Sorry! U can not unsubscribe yet. THE MOB offer package has a min term of 54 weeks> pls resubmit request after expiry. Reply THEMOB HELP 4 more info',\n",
              " 'Your opinion about me? 1. Over 2. Jada 3. Kusruthi 4. Lovable 5. Silent 6. Spl character 7. Not matured 8. Stylish 9. Simple Pls reply..',\n",
              " 'Congratulations ur awarded either å£500 of CD gift vouchers & Free entry 2 our å£100 weekly draw txt MUSIC to 87066 TnCs www.Ldew.com 1 win150ppmx3age16',\n",
              " 'I wud never mind if u dont miss me or if u dont need me.. But u wil really hurt me wen u need me &amp; u dont tell me......... Take care:-)',\n",
              " 'Do you work all this week ?',\n",
              " 'Rofl betta invest in some  anti aging products',\n",
              " \"Hmm ill have to think about it... ok you're forgiven! =D\",\n",
              " 'Its going good...no problem..but still need little experience to understand american customer voice...',\n",
              " \"Sorry, I'll call later\",\n",
              " 'K..k:)how about your training process?',\n",
              " 'How many times i told in the stage all use to laugh. You not listen aha.',\n",
              " \"I'll be late...\",\n",
              " 'No no. I will check all rooms befor activities',\n",
              " '\\\\Hello-/@drivby-:0quit edrunk sorry iff pthis makes no senrd-dnot no how ^ dancce 2 drum n basq!ihave fun 2nhite x ros xxxxxxx\\\\\"\"',\n",
              " 'You have 1 new voicemail. Please call 08719181513.',\n",
              " \"Yeah that's what I thought, lemme know if anything's goin on later\",\n",
              " 'I sent them. Do you like?',\n",
              " \"Living is very simple.. Loving is also simple.. Laughing is too simple.. Winning is tooo simple.. But, Being 'SIMPLE' is very difficult...;-) :-)\",\n",
              " 'I am not having her number sir',\n",
              " 'Nan sonathaya soladha. Why boss?',\n",
              " 'Me too. Mark is taking forever to pick up my prescription and the pain is coming back.',\n",
              " 'You have WON a guaranteed å£1000 cash or a å£2000 prize. To claim yr prize call our customer service representative on 08714712412 between 10am-7pm Cost 10p',\n",
              " 'Now thats going to ruin your thesis!',\n",
              " 'December only! Had your mobile 11mths+? You are entitled to update to the latest colour camera mobile for Free! Call The Mobile Update Co FREE on 08002986906',\n",
              " \"Ur balance is now å£500. Ur next question is: Who sang 'Uptown Girl' in the 80's ? 2 answer txt ur ANSWER to 83600. Good luck!\",\n",
              " '<Forwarded from 88877>FREE entry into our å£250 weekly comp just send the word ENTER to 88877 NOW. 18 T&C www.textcomp.com',\n",
              " 'Just checking in on you. Really do miss seeing Jeremiah. Do have a great month',\n",
              " 'Urgent! Please call 09061743811 from landline. Your ABTA complimentary 4* Tenerife Holiday or å£5000 cash await collection SAE T&Cs Box 326 CW25WX 150ppm',\n",
              " '+449071512431 URGENT! This is the 2nd attempt to contact U!U have WON å£1250 CALL 09071512433 b4 050703 T&CsBCM4235WC1N3XX. callcost 150ppm mobilesvary. maxå£7. 50',\n",
              " 'Then cant get da laptop? My matric card wif Ì_ lei... ',\n",
              " 'K, want us to come by now?',\n",
              " 'Hey... Very inconvenient for your sis a not huh?',\n",
              " 'Good evening! this is roger. How are you?',\n",
              " 'Oh god i am happy to see your message after 3 days',\n",
              " 'No no. I will check all rooms befor activities',\n",
              " \"Aight I've been set free, think you could text me blake's address? It occurs to me I'm not quite as sure what I'm doing as I thought I was\",\n",
              " \"That's cool he'll be here all night, lemme know when you're around\",\n",
              " 'Havent shopping now lor i juz arrive only',\n",
              " \"jay says he'll put in  &lt;#&gt;\",\n",
              " \"Doing my masters. When will you buy a bb cos i have for sale and how's bf\",\n",
              " \"Free entry in 2 a weekly comp for a chance to win an ipod. Txt POD to 80182 to get entry (std txt rate) T&C's apply 08452810073 for details 18+\",\n",
              " 'Good night my dear.. Sleepwell&amp;Take care',\n",
              " \"Just haven't decided where yet eh ?\",\n",
              " 'I wonder how you got online, my love ? Had you gone to the net cafe ? Did you get your phone recharged ? Were you on a friends net ? I think of you, boytoy',\n",
              " \"I don't know but I'm raping dudes at poker\",\n",
              " \"You could have seen me..i did't recognise you Face.:)\",\n",
              " 'Wait  &lt;#&gt;  min..',\n",
              " 'Excellent! Wish we were together right now!',\n",
              " 'Hey we can go jazz power yoga hip hop kb and yogasana ',\n",
              " 'Good afternoon, my love! How goes that day ? I hope maybe you got some leads on a job. I think of you, boytoy and send you a passionate kiss from across the sea',\n",
              " 'Er yeah, i will b there at 15:26, sorry! Just tell me which pub/cafe to sit in and come wen u can',\n",
              " 'Gr8 Poly tones 4 ALL mobs direct 2u rply with POLY TITLE to 8007 eg POLY BREATHE1 Titles: CRAZYIN, SLEEPINGWITH, FINEST, YMCA :getzed.co.uk POBox365O4W45WQ 300p',\n",
              " 'Another month. I need chocolate weed and alcohol.',\n",
              " 'When should I come over?',\n",
              " '\\\\HEY HEY WERETHE MONKEESPEOPLE SAY WE MONKEYAROUND! HOWDY GORGEOUS',\n",
              " 'Dude avatar 3d was imp. At one point i thought there were actually flies in the room and almost tried hittng one as a reflex',\n",
              " 'Your unique user ID is 1172. For removal send STOP to 87239 customer services 08708034412',\n",
              " 'Yar he quite clever but aft many guesses lor. He got ask me 2 bring but i thk darren not so willing 2 go. Aiya they thk leona still not attach wat.',\n",
              " 'Message:some text missing* Sender:Name Missing* *Number Missing *Sent:Date missing *Missing U a lot thats y everything is missing sent via fullonsms.com',\n",
              " 'My tuition is at 330. Hm we go for the 1120 to 1205 one? Do you mind?',\n",
              " 'Tomarrow i want to got to court. At  &lt;DECIMAL&gt; . So you come to bus stand at 9.',\n",
              " 'Honey, can you pls find out how much they sell Predicte in Nigeria. And how many times can it be used. Its very important to have a reply before monday',\n",
              " 'Wot u up 2 u weirdo?',\n",
              " 'Do you want a NEW video phone750 anytime any network mins 150 text for only five pounds per week call 08000776320 now or reply for delivery tomorrow',\n",
              " 'Tick, tick, tick .... Where are you ? I could die of loneliness you know ! *pouts* *stomps feet* I need you ...',\n",
              " 'You will recieve your tone within the next 24hrs. For Terms and conditions please see Channel U Teletext Pg 750',\n",
              " 'Where is that one day training:-)',\n",
              " 'Please ask mummy to call father',\n",
              " 'Ujhhhhhhh computer shipped out with address to sandiago and parantella lane. Wtf. Poop.',\n",
              " 'swhrt how u dey,hope ur ok, tot about u 2day.love n miss.take care.',\n",
              " 'Easy ah?sen got selected means its good..',\n",
              " \"Sorry, I'll call later\",\n",
              " 'That day Ì_ say Ì_ cut ur hair at paragon, is it called hair sense? Do Ì_ noe how much is a hair cut? ',\n",
              " 'Am not working but am up to eyes in philosophy so will text u later when a bit more free for chat...',\n",
              " \"Alright we'll bring it to you, see you in like  &lt;#&gt;  mins\",\n",
              " 'I get out of class in bsn in like  &lt;#&gt;  minutes, you know where advising is?',\n",
              " \"Shuhui has bought ron's present it's a swatch watch...\",\n",
              " 'Hungry gay guys feeling hungry and up 4 it, now. Call 08718730555 just 10p/min. To stop texts call 08712460324 (10p/min)',\n",
              " 'Aight do you still want to get money',\n",
              " 'DO NOT B LATE LOVE MUM',\n",
              " 'Dude ive been seeing a lotta corvettes lately',\n",
              " 'As in i want custom officer discount oh.',\n",
              " 'Me hungry buy some food good lei... But mum n yun dun wan juz buy a little bit... ',\n",
              " 'Thank u. IT BETTER WORK OUT CAUSE I WILL FEEL USED OTHERWISE',\n",
              " 'You are a winner U have been specially selected 2 receive å£1000 cash or a 4* holiday (flights inc) speak to a live operator 2 claim 0871277810810',\n",
              " 'I will see in half an hour',\n",
              " 'Men always needs a beautiful, intelligent, caring, loving, adjustable, cooperative wife. But the law allows only one wife....',\n",
              " \"Yeah. I got a list with only u and Joanna if I'm feeling really anti social\",\n",
              " 'Dear i have reache room',\n",
              " '2mro i am not coming to gym machan. Goodnight.',\n",
              " 'Call from 08702490080 - tells u 2 call 09066358152 to claim å£5000 prize. U have 2 enter all ur mobile & personal details @ the prompts. Careful!',\n",
              " \"I can't, I don't have her number!\",\n",
              " \"Sorry, I guess whenever I can get a hold of my connections, maybe an hour or two? I'll text you\",\n",
              " 'U say leh... Of course nothing happen lar. Not say v romantic jus a bit only lor. I thk e nite scenery not so nice leh.',\n",
              " 'Mark works tomorrow. He gets out at 5. His work is by your house so he can meet u afterwards.',\n",
              " 'You have to pls make a note of all she.s exposed to. Also find out from her school if anyone else was vomiting. Is there a dog or cat in the house? Let me know later.',\n",
              " 'Yes! How is a pretty lady like you single?',\n",
              " 'Good evening Sir, Al Salam Wahleykkum.sharing a happy news.By the grace of God, i got an offer from Tayseer,TISSCO and i joined.Hope you are fine.Inshah Allah,meet you sometime.Rakhesh,visitor from India.',\n",
              " 'Mum, hope you are having a great day. Hoping this text meets you well and full of life. Have a great day. Abiola',\n",
              " \"LookAtMe!: Thanks for your purchase of a video clip from LookAtMe!, you've been charged 35p. Think you can do better? Why not send a video in a MMSto 32323.\",\n",
              " 'I like dis sweater fr mango but no more my size already so irritating.',\n",
              " 'i want to grasp your pretty booty :)',\n",
              " 'PRIVATE! Your 2003 Account Statement for <fone no> shows 800 un-redeemed S. I. M. points. Call 08715203656 Identifier Code: 42049 Expires 26/10/04',\n",
              " 'I sent you the prices and do you mean the  &lt;#&gt; g,',\n",
              " 'How are you babes. Hope your doing ok. I had a shit nights sleep. I fell asleep at 5.IåÕm knackered and iåÕm dreading work tonight. What are thou upto tonight. X',\n",
              " 'You are guaranteed the latest Nokia Phone, a 40GB iPod MP3 player or a å£500 prize! Txt word: COLLECT to No: 83355! IBHltd LdnW15H 150p/Mtmsgrcvd18',\n",
              " 'SPJanuary Male Sale! Hot Gay chat now cheaper, call 08709222922. National rate from 1.5p/min cheap to 7.8p/min peak! To stop texts call 08712460324 (10p/min)',\n",
              " 'Just hopeing that wasn\\x89Û÷t too pissed up to remember and has gone off to his sisters or something!',\n",
              " 'Urgh, coach hot, smells of chip fat! Thanks again, especially for the duvet (not a predictive text word).',\n",
              " \"Y she dun believe leh? I tot i told her it's true already. I thk she muz c us tog then she believe.\",\n",
              " 'Watching cartoon, listening music &amp; at eve had to go temple &amp; church.. What about u?',\n",
              " 'Dear Voucher Holder, To claim this weeks offer, at you PC please go to http://www.e-tlp.co.uk/reward. Ts&Cs apply.',\n",
              " \"Pathaya enketa maraikara pa'\",\n",
              " 'You will go to walmart. I.ll stay.',\n",
              " 'Shall i get my pouch?',\n",
              " 'haha but no money leh... Later got to go for tuition... Haha and looking for empty slots for driving lessons',\n",
              " 'He remains a bro amongst bros',\n",
              " 'Do you know why god created gap between your fingers..? So that, One who is made for you comes &amp; fills those gaps by holding your hand with LOVE..!',\n",
              " 'URGENT! We are trying to contact U. Todays draw shows that you have won a å£2000 prize GUARANTEED. Call 09058094507 from land line. Claim 3030. Valid 12hrs only',\n",
              " 'U have a secret admirer who is looking 2 make contact with U-find out who they R*reveal who thinks UR so special-call on 09058094599',\n",
              " 'I am in tirupur da, once you started from office call me.',\n",
              " 'Hi im having the most relaxing time ever! we have to get up at 7am every day! was the party good the other night? I get home tomorrow at 5ish.',\n",
              " 'Its a big difference.  &lt;#&gt;  versus  &lt;#&gt;  every  &lt;#&gt; hrs',\n",
              " \"I'm in a meeting, call me later at\",\n",
              " 'Stupid.its not possible',\n",
              " \"Under the sea, there lays a rock. In the rock, there is an envelope. In the envelope, there is a paper. On the paper, there are 3 words... '\",\n",
              " \"K..k..i'm also fine:)when will you complete the course?\",\n",
              " 'HOT LIVE FANTASIES call now 08707500020 Just 20p per min NTT Ltd, PO Box 1327 Croydon CR9 5WB 0870 is a national rate call',\n",
              " \"I've been barred from all B and Q stores for life!?This twat in orange dungerees came up to me and asked if I wanted decking? So I got the first punch in!!\",\n",
              " 'Please give it 2  or i will pick it up on Tuesday evening about 8 if that is ok.',\n",
              " \"Hello my little party animal! I just thought I'd buzz you as you were with your friends ...*grins*... Reminding you were loved and send a naughty adoring kiss\",\n",
              " 'Come to my home for one last time i wont do anything. Trust me.',\n",
              " \"I'm home. Doc gave me pain meds says everything is fine.\",\n",
              " 'Hmm thinking lor...',\n",
              " 'Merry christmas to u too annie!',\n",
              " 'You have an important customer service announcement from PREMIER.',\n",
              " 'Customer service announcement. We recently tried to make a delivery to you but were unable to do so, please call 07090298926 to re-schedule. Ref:9307622',\n",
              " 'Yes... I trust u to buy new stuff ASAP so I can try it out',\n",
              " 'S now only i took tablets . Reaction morning only.',\n",
              " \"Hello boytoy ! Geeee ... I'm missing you today. I like to send you a tm and remind you I'm thinking of you ... And you are loved ... *loving kiss*\",\n",
              " 'Thanx but my birthday is over already.',\n",
              " '\\\\What are youdoing later? Sar xxx\\\\\"\"',\n",
              " 'You are a winner you have been specially selected to receive å£1000 cash or a å£2000 award. Speak to a live operator to claim call 087147123779am-7pm. Cost 10p',\n",
              " 'accordingly. I repeat, just text the word ok on your mobile phone and send',\n",
              " \"K, text me when you're on the way\",\n",
              " 'R u over scratching it?',\n",
              " 'Ard 530 like dat lor. We juz meet in mrt station then Ì_ dun haf to come out.',\n",
              " 'Hi there, 2nights ur lucky night! Uve been invited 2 XCHAT, the Uks wildest chat! Txt CHAT to 86688 now! 150p/MsgrcvdHG/Suite342/2Lands/Row/W1J6HL LDN 18yrs',\n",
              " \"I've not called you in a while. This is hoping it was l8r malaria and that you know that we miss you guys. I miss Bani big, so pls give her my love especially. Have a great day.\",\n",
              " \"I wanted to wish you a Happy New Year and I wanted to talk to you about some legal advice to do with when Gary and I split but in person. I'll make a trip to Ptbo for that. I hope everything is good with you babe and I love ya :)\",\n",
              " 'Ok... Ur typical reply...',\n",
              " 'Okay same with me. Well thanks for the clarification',\n",
              " 'Single line with a big meaning::::: \\\\Miss anything 4 ur \\\\\"Best Life\\\\\" but',\n",
              " 'Thank You meet you monday',\n",
              " 'Gud mrng dear hav a nice day',\n",
              " 'Mmmmm ... I loved waking to your words this morning ! I miss you too, my Love. I hope your day goes well and you are happy. I wait for us to be together again',\n",
              " 'We tried to contact you re your reply to our offer of a Video Phone 750 anytime any network mins Half Price Line Rental Camcorder Reply or call 08000930705',\n",
              " 'I did. One slice and one breadstick. Lol',\n",
              " 'Near kalainar tv office.thenampet',\n",
              " \"R u here yet? I'm wearing blue shirt n black pants.\",\n",
              " 'Wat u doing there?',\n",
              " 'Still otside le..u come 2morrow maga..',\n",
              " '2marrow only. Wed at  &lt;#&gt;  to 2 aha.',\n",
              " 'I luv u soo much u donåÕt understand how special u r 2 me ring u 2morrow luv u xxx',\n",
              " 'Thanks. It was only from tescos but quite nice. All gone now. Speak soon ',\n",
              " 'Me too! Have a lovely night xxx',\n",
              " 'Todays Vodafone numbers ending with 4882 are selected to a receive a å£350 award. If your number matches call 09064019014 to receive your å£350 award.',\n",
              " 'awesome, how do I deal with the gate? Charles told me last night but, uh, yeah',\n",
              " 'URGENT! We are trying to contact U Todays draw shows that you have won a å£800 prize GUARANTEED. Call 09050000460 from land line. Claim J89. po box245c2150pm',\n",
              " \"Oops sorry. Just to check that you don't mind picking me up tomo at half eight from station. Would that be ok?\",\n",
              " 'whatever, im pretty pissed off.',\n",
              " 'Are you at work right now ?',\n",
              " 'Okay... We wait ah',\n",
              " 'Hurt me... Tease me... Make me cry... But in the end of my life when i die plz keep one rose on my grave and say STUPID I MISS U.. HAVE A NICE DAY BSLVYL',\n",
              " 'Same. Wana plan a trip sometme then',\n",
              " 'Derp. Which is worse, a dude who always wants to party or a dude who files a complaint about the three drug abusers he lives with',\n",
              " \"No i'm not. I can't give you everything you want and need. You actually could do better for yourself on yor own--you've got more money than i do. I can't get work, i can't get a man, i can't pay the rent, i can't even fill my fucking gas tank. yes, i'm stressed and depressed. I didn't even call home for thanksgiving cuz i'll have to tell them i,m up to nothing.\",\n",
              " 'The hair cream has not been shipped.',\n",
              " \"It's ok lar. U sleep early too... Nite...\",\n",
              " '\\\\Speak only when you feel your words are better than the silence...\\\\\" Gud mrng:-)\"',\n",
              " \"But i'm really really broke oh. No amount is too small even  &lt;#&gt; \",\n",
              " \"Hiya. How was last night? I've been naughty and bought myself clothes and very little ... Ready for more shopping tho! What kind of time do you wanna meet?\",\n",
              " 'You said not now. No problem. When you can. Let me know.',\n",
              " \"Aight, I'll text you when I'm back\",\n",
              " 'Mm feeling sleepy. today itself i shall get that dear',\n",
              " \" gonna let me know cos comes bak from holiday that day.  is coming. Don't4get2text me  number. \",\n",
              " 'URGENT! You have won a 1 week FREE membership in our å£100,000 Prize Jackpot! Txt the word: CLAIM to No: 81010 T&C www.dbuk.net LCCLTD POBOX 4403LDNW1A7RW18',\n",
              " 'Yes. Last  practice',\n",
              " 'Check wid corect speling i.e. Sarcasm',\n",
              " 'Alright, see you in a bit',\n",
              " \"It's ok i wun b angry. Msg u aft i come home tonight.\",\n",
              " 'Dear reached railway. What happen to you',\n",
              " \"Haha awesome, I've been to 4u a couple times. Who all's coming?\",\n",
              " 'House-Maid is the murderer, coz the man was murdered on  &lt;#&gt; th January.. As public holiday all govt.instituitions are closed,including post office..understand?',\n",
              " 'In e msg jus now. U said thanks for gift.',\n",
              " 'You have won ?1,000 cash or a ?2,000 prize! To claim, call09050000327',\n",
              " \"Nah I don't think he goes to usf, he lives around here though\",\n",
              " 'K...k:)why cant you come here and search job:)',\n",
              " 'Meeting u is my work. . . Tel me when shall i do my work tomorrow',\n",
              " 'We r outside already.',\n",
              " 'I will lick up every drop :) are you ready to use your mouth as well?',\n",
              " 'No got new job at bar in airport on satsgettin 4.47per hour but means no lie in! keep in touch',\n",
              " \"It's Ì© only $140 ard...Ìä rest all ard $180 at least...Which is Ì© price 4 Ì© 2 bedrm ($900)\",\n",
              " \"I'm on the bus. Love you\",\n",
              " 'EASTENDERS TV Quiz. What FLOWER does DOT compare herself to? D= VIOLET E= TULIP F= LILY txt D E or F to 84025 NOW 4 chance 2 WIN å£100 Cash WKENT/150P16+',\n",
              " 'I will reach before ten morning',\n",
              " 'I dont thnk its a wrong calling between us',\n",
              " 'Do u noe how 2 send files between 2 computers?',\n",
              " \"Takin a shower now but yeah I'll leave when I'm done\",\n",
              " 'Its a great day. Do have yourself a beautiful one.',\n",
              " \"TODAY is Sorry day.! If ever i was angry with you, if ever i misbehaved or hurt you? plz plz JUST SLAP URSELF Bcoz, Its ur fault, I'm basically GOOD\",\n",
              " 'You are not bothering me but you have to trust my answers. Pls.',\n",
              " 'Guess what! Somebody you know secretly fancies you! Wanna find out who it is? Give us a call on 09065394973 from Landline DATEBox1282EssexCM61XN 150p/min 18',\n",
              " 'Ok...',\n",
              " 'http//tms. widelive.com/index. wml?id=820554ad0a1705572711&first=trueåÁC C RingtoneåÁ',\n",
              " 'Great! I hope you like your man well endowed. I am  &lt;#&gt;  inches...',\n",
              " 'I wil be there with in  &lt;#&gt;  minutes. Got any space',\n",
              " 'Just dropped em off, omw back now',\n",
              " \"I know but you need to get hotel now. I just got my invitation but i had to apologise. Cali is to sweet for me to come to some english bloke's weddin\",\n",
              " 'I am joining today formally.Pls keep praying.will talk later.',\n",
              " 'Pls go there today  &lt;#&gt; . I dont want any excuses',\n",
              " 'You can never do NOTHING',\n",
              " 'cmon babe, make me horny, *turn* me on! Txt me your fantasy now babe -) Im hot, sticky and need you now. All replies cost å£1.50. 2 cancel send STOP',\n",
              " \"K, I'll work something out\",\n",
              " 'U have won a nokia 6230 plus a free digital camera. This is what u get when u win our FREE auction. To take part send NOKIA to 83383 now. POBOX114/14TCR/W1 16',\n",
              " 'Thank you. I like you as well...',\n",
              " \"K I'll call you when I'm close\",\n",
              " '500 New Mobiles from 2004, MUST GO! Txt: NOKIA to No: 89545 & collect yours today!From ONLY å£1 www.4-tc.biz 2optout 087187262701.50gbp/mtmsg18',\n",
              " 'What Today-sunday..sunday is holiday..so no work..',\n",
              " 'Want to funk up ur fone with a weekly new tone reply TONES2U 2 this text. www.ringtones.co.uk, the original n best. Tones 3GBP network operator rates apply',\n",
              " 'ringtoneking 84484',\n",
              " 'For your chance to WIN a FREE Bluetooth Headset then simply reply back with \\\\ADP\\\\\"\"',\n",
              " 'Yes princess! I want to please you every night. Your wish is my command...',\n",
              " 'URGENT! Your Mobile number has been awarded a <UKP>2000 prize GUARANTEED. Call 09061790125 from landline. Claim 3030. Valid 12hrs only 150ppm',\n",
              " 'Hi. Customer Loyalty Offer:The NEW Nokia6650 Mobile from ONLY å£10 at TXTAUCTION! Txt word: START to No: 81151 & get yours Now! 4T&Ctxt TC 150p/MTmsg',\n",
              " 'Love has one law; Make happy the person you love. In the same way friendship has one law; Never make ur friend feel alone until you are alive.... Gud night',\n",
              " \"I'm fine. Hope you are good. Do take care.\",\n",
              " 'HI DARLIN IVE JUST GOT BACK AND I HAD A REALLY NICE NIGHT AND THANKS SO MUCH FOR THE LIFT SEE U TOMORROW XXX',\n",
              " \"No way I'm going back there!\",\n",
              " 'As in missionary hook up, doggy hook up, standing...|',\n",
              " 'Nice.nice.how is it working?',\n",
              " 'Hhahhaahahah rofl wtf nig was leonardo in your room or something',\n",
              " 'Big brother\\x89Û÷s really scraped the barrel with this shower of social misfits',\n",
              " 'I jus reached home. I go bathe first. But my sis using net tell u when she finishes k...',\n",
              " 'Urgent! Please call 09066612661 from your landline, your complimentary 4* Lux Costa Del Sol holiday or å£1000 CASH await collection. ppm 150 SAE T&Cs James 28, EH74RR',\n",
              " 'Superb Thought- \\\\Be grateful that u dont have everything u want. That means u still have an opportunity to be happier tomorrow than u are today.\\\\\":-)\"',\n",
              " \"Most of the tiime when i don't let you hug me it's so i don't break into tears.\",\n",
              " 'Fuck cedar key and fuck her (come over anyway tho)',\n",
              " \"Hey i'm bored... So i'm thinking of u... So wat r u doing?\",\n",
              " \"Yup n her fren lor. I'm meeting my fren at 730.\",\n",
              " \"I'm freezing and craving ice. Fml\",\n",
              " 'I just made some payments so dont have that much. Sorry. Would you want it fedex or the other way.',\n",
              " 'thesmszone.com lets you send free anonymous and masked messages..im sending this message from there..do you see the potential for abuse???',\n",
              " 'Orh i tot u say she now still dun believe.',\n",
              " 'Hey tmr maybe can meet you at yck',\n",
              " ' &lt;DECIMAL&gt; m but its not a common car here so its better to buy from china or asia. Or if i find it less expensive. I.ll holla',\n",
              " 'Pls i wont belive god.not only jesus.',\n",
              " 'CHEERS LOU! YEAH WAS A GOODNITE SHAME U NEVA CAME! C YA GAILxx',\n",
              " '&lt;#&gt;  great loxahatchee xmas tree burning update: you can totally see stars here',\n",
              " 'NOT MUCH NO FIGHTS. IT WAS A GOOD NITE!!',\n",
              " \"You've always been the brainy one.\",\n",
              " \"Wait that's still not all that clear, were you not sure about me being sarcastic or that that's why x doesn't want to live with us\",\n",
              " 'You sure your neighbors didnt pick it up',\n",
              " 'Happy new year to u too!',\n",
              " \"Any chance you might have had with me evaporated as soon as you violated my privacy by stealing my phone number from your employer's paperwork. Not cool at all. Please do not contact me again or I will report you to your supervisor.\",\n",
              " 'Knock Knock Txt whose there to 80082 to enter r weekly draw 4 a å£250 gift voucher 4 a store of yr choice. T&Cs www.tkls.com age16 to stoptxtstopå£1.50/week',\n",
              " 'No current and food here. I am alone also',\n",
              " 'URGENT!! Your 4* Costa Del Sol Holiday or å£5000 await collection. Call 09050090044 Now toClaim. SAE, TC s, POBox334, Stockport, SK38xh, Costå£1.50/pm, Max10mins',\n",
              " 'U have a Secret Admirer who is looking 2 make contact with U-find out who they R*reveal who thinks UR so special-call on 09065171142-stopsms-08718727870150ppm',\n",
              " 'Senthil group company Apnt 5pm.',\n",
              " 'THANX4 TODAY CER IT WAS NICE 2 CATCH UP BUT WE AVE 2 FIND MORE TIME MORE OFTEN OH WELL TAKE CARE C U SOON.C',\n",
              " 'Thanks for your ringtone order, ref number K718. Your mobile will be charged å£4.50. Should your tone not arrive please call customer services on 09065069120',\n",
              " 'GOD ASKED, \\\\What is forgiveness?\\\\\" A little child gave lovely reply',\n",
              " 'I dont knw pa, i just drink milk..',\n",
              " 'Sweet heart how are you?',\n",
              " 'We tried to contact you re your reply to our offer of 750 mins 150 textand a new video phone call 08002988890 now or reply for free delivery tomorrow',\n",
              " 'Todays Voda numbers ending 5226 are selected to receive a ?350 award. If you hava a match please call 08712300220 quoting claim code 1131 standard rates app ',\n",
              " 'We have to pick rayan macleran there.',\n",
              " 'I was just callin to say hi. Take care bruv!',\n",
              " \"Ha! I wouldn't say that I just didn't read anything into way u seemed. I don't like 2 be judgemental....i save that for fridays in the pub!\",\n",
              " \"Pls send me a comprehensive mail about who i'm paying, when and how much.\",\n",
              " 'That seems unnecessarily hostile',\n",
              " 'Aight what time you want me to come up?',\n",
              " 'Well done, blimey, exercise, yeah, i kinda remember wot that is, hmm. ',\n",
              " 'Aight, see you in a bit',\n",
              " 'Better than bb. If he wont use it, his wife will or them doctor',\n",
              " 'Jane babes not goin 2 wrk, feel ill after lst nite. Foned in already cover 4 me chuck.:-)',\n",
              " 'Get the official ENGLAND poly ringtone or colour flag on yer mobile for tonights game! Text TONE or FLAG to 84199. Optout txt ENG STOP Box39822 W111WX å£1.50',\n",
              " \"Don know:)this week i'm going to tirunelvai da.\",\n",
              " \"Dont give a monkeys wot they think and i certainly don't mind. Any friend of mine&all that! Just don't sleep wiv , that wud be annoyin!\",\n",
              " 'Haha, my friend tyler literally just asked if you could get him a dubsack',\n",
              " 'Aiyah then i wait lor. Then u entertain me. Hee...',\n",
              " \"Omg Joanna is freaking me out. She's looked thru all my friends to find photos of me. And then she's asking about stuff on my MySpace which I haven't even logged on in like a year. :/\",\n",
              " \"The basket's gettin full so I might be by tonight\",\n",
              " \"Yunny i'm walking in citylink now Ì_ faster come down... Me very hungry...\",\n",
              " 'You give us back my id proof and  &lt;#&gt;  rs. We wont allow you to work. We will come to your home within days',\n",
              " 'You intrepid duo you! Have a great time and see you both soon. ',\n",
              " 'Hi if ur lookin 4 saucy daytime fun wiv busty married woman Am free all next week Chat now 2 sort time 09099726429 JANINExx Callså£1/minMobsmoreLKPOBOX177HP51FL',\n",
              " \"Sweet, we may or may not go to 4U to meet carlos so gauge patty's interest in that\",\n",
              " 'What pa tell me.. I went to bath:-)',\n",
              " 'Was actually sleeping and still might when u call back. So a text is gr8. You rock sis. Will send u a text wen i wake.',\n",
              " 'Bill, as in: Are there any letters for me. i\\x89Ûªm expecting one from orange that isn\\x89Ûªt a bill but may still say orange on it.',\n",
              " 'Thk some of em find wtc too far... Weiyi not goin... E rest i dunno yet... R ur goin 4 dinner den i might b able to join...',\n",
              " \"Thank you so much. When we skyped wit kz and sura, we didnt get the pleasure of your company. Hope you are good. We've given you ultimatum oh! We are countin down to aburo. Enjoy!\",\n",
              " 'How are you. Wish you a great semester',\n",
              " 'Cbe is really good nowadays:)lot of shop and showrooms:)city is shaping good.',\n",
              " 'A guy who gets used but is too dumb to realize it.',\n",
              " 'Hello- thanx for taking that call. I got a job! Starts on monday!',\n",
              " 'Great. Have a safe trip. Dont panic surrender all.',\n",
              " 'Today is ACCEPT DAY..U Accept me as? Brother Sister Lover Dear1 Best1 Clos1 Lvblefrnd Jstfrnd Cutefrnd Lifpartnr Belovd Swtheart Bstfrnd No rply means enemy',\n",
              " 'I might go 2 sch. Yar at e salon now v boring.',\n",
              " 'I meant as an apology from me for texting you to get me drugs at  &lt;#&gt; at night',\n",
              " \"Sorry man, my stash ran dry last night and I can't pick up more until sunday\",\n",
              " 'Gr8 new service - live sex video chat on your mob - see the sexiest dirtiest girls live on ur phone - 4 details text horny to 89070 to cancel send STOP to 89070',\n",
              " 'Received, understood n acted upon!',\n",
              " 'Ha... U jus ate honey ar? So sweet...',\n",
              " 'Enjoy the showers of possessiveness poured on u by ur loved ones, bcoz in this world of lies, it is a golden gift to be loved truly..',\n",
              " 'Jus finish my lunch on my way home lor... I tot u dun wan 2 stay in sch today...',\n",
              " 'How i noe... Did Ì_ specify da domain as nusstu... ÌÏ still in sch...',\n",
              " 'No need lar i go engin? Cos my sis at arts today...',\n",
              " 'I cant pick the phone right now. Pls send a message',\n",
              " 'Theoretically yeah, he could be able to come',\n",
              " \"Probably earlier than that if the station's where I think it is\",\n",
              " 'Do u noe wat time e place dat sells 4d closes?',\n",
              " 'Up to Ì_... ÌÏ wan come then come lor... But i din c any stripes skirt...',\n",
              " '\\\\OH FUCK. JUSWOKE UP IN A BED ON A BOATIN THE DOCKS. SLEPT WID 25 YEAR OLD. SPINOUT! GIV U DA GOSSIP L8R. XXX\\\\\"\"',\n",
              " 'PRIVATE! Your 2003 Account Statement for shows 800 un-redeemed S. I. M. points. Call 08719899230 Identifier Code: 41685 Expires 07/11/04',\n",
              " 'Exactly. Anyways how far. Is jide her to study or just visiting',\n",
              " 'Even if he my friend he is a priest call him now',\n",
              " 'THANX 4 PUTTIN DA FONE DOWN ON ME!!',\n",
              " 'I canåÕt wait for cornwall. Hope tonight isnåÕt too bad as well but itåÕs rock night shite. Anyway iåÕm going for a kip now have a good night. Speak to you soon.',\n",
              " 'YOU 07801543489 are guaranteed the latests Nokia Phone, a 40GB iPod MP3 player or a å£500 prize! Txt word:COLLECT to No:83355! TC-LLC NY-USA 150p/Mt msgrcvd18+',\n",
              " 'Yes princess! I want to catch you with my big strong hands...',\n",
              " 'Ok enjoy . R u there in home.',\n",
              " 'For fear of fainting with the of all that housework you just did? Quick have a cuppa',\n",
              " 'Hows the champ just leaving glasgow!',\n",
              " \"Oops, I'll let you know when my roommate's done\",\n",
              " 'YOU ARE CHOSEN TO RECEIVE A å£350 AWARD! Pls call claim number 09066364311 to collect your award which you are selected to receive as a valued mobile customer.',\n",
              " 'Sorry dude. Dont know how i forgot. Even after Dan reminded me. Sorry. Hope you guys had fun.',\n",
              " 'Hi my email address has changed now it is ',\n",
              " \"U don't know how stubborn I am. I didn't even want to go to the hospital. I kept telling Mark I'm not a weak sucker. Hospitals are for weak suckers.\",\n",
              " \"I'm also came to room.\",\n",
              " \"Yeah he got in at 2 and was v apologetic. n had fallen out and she was actin like spoilt child and he got caught up in that. Till 2! But we won't go there! Not doing too badly cheers. You? \",\n",
              " \"And how's your husband.\",\n",
              " 'Babe ? I lost you ... Will you try rebooting ?',\n",
              " \"I guess that's why you re worried. You must know that there's a way the body repairs itself. And i'm quite sure you shouldn't worry. We'll take it slow. First the tests, they will guide when your ovulation is then just relax. Nothing you've said is a reason to worry but i.ll keep on followin you up.\",\n",
              " 'Eat jap done oso aft ur lect wat... ÌÏ got lect at 12 rite... ',\n",
              " 'Sen told that he is going to join his uncle finance in cbe',\n",
              " \"Am I the only one who doesn't stalk profiles?\",\n",
              " \"I'm home.\",\n",
              " 'I love you !!! You know? Can you feel it? Does it make your belly warm? I wish it does, my love ... I shall meet you in your dreams, Ahmad ... *adoring kiss*',\n",
              " \"Hi! You just spoke to MANEESHA V. We'd like to know if you were satisfied with the experience. Reply Toll Free with Yes or No.\",\n",
              " \"Science tells that chocolate will melt under the sunlight. Please don't walk under the sunlight. BCoz,I don't want to loss a sweet friend.\",\n",
              " '\\\\HEY DAS COOL... IKNOW ALL 2 WELLDA PERIL OF STUDENTFINANCIAL CRISIS!SPK 2 U L8R.\\\\\"\"',\n",
              " 'Watching tv lor. Nice one then i like lor.',\n",
              " \"Thought praps you meant another one. Goodo! I'll look tomorrow \",\n",
              " 'Hello madam how are you ?',\n",
              " 'This is one of the days you have a billion classes, right?',\n",
              " \"How's my loverboy doing ? What does he do that keeps him from coming to his Queen, hmmm ? Doesn't he ache to speak to me ? Miss me desparately ?\",\n",
              " \"I've reached home n i bathe liao... U can call me now...\",\n",
              " 'Yar lor... How u noe? U used dat route too?',\n",
              " 'Did u turn on the heater? The heater was on and set to &lt;#&gt; degrees.',\n",
              " 'I know girls always safe and selfish know i got it pa. Thank you. good night.',\n",
              " 'THATåÕS ALRITE GIRL, U KNOW GAIL IS NEVA WRONG!!TAKE CARE SWEET AND DONåÕT WORRY.C U L8TR HUN!LOVE Yaxxx',\n",
              " 'Why i come in between you people',\n",
              " 'Best line said in Love: . \\\\I will wait till the day I can forget u Or The day u realize that u cannot forget me.\\\\\"... Gn\"',\n",
              " 'Yo, any way we could pick something up tonight?',\n",
              " 'Then why no one talking to me',\n",
              " 'Lol boo I was hoping for a laugh',\n",
              " 'Send me your id and password',\n",
              " 'So anyways, you can just go to your gym or whatever, my love *smiles* I hope your ok and having a good day babe ... I miss you so much already',\n",
              " 'My mobile number.pls sms ur mail id.convey regards to achan,amma.Rakhesh.Qatar',\n",
              " 'Ok then no need to tell me anything i am going to sleep good night',\n",
              " \"A few people are at the game, I'm at the mall with iouri and kaila\",\n",
              " 'Happy new years melody!',\n",
              " 'Do u konw waht is rael FRIENDSHIP Im gving yuo an exmpel: Jsut ese tihs msg.. Evrey splleing of tihs msg is wrnog.. Bt sitll yuo can raed it wihtuot ayn mitsake.. GOODNIGHT &amp; HAVE A NICE SLEEP..SWEET DREAMS..',\n",
              " 'Is there coming friday is leave for pongal?do you get any news from your work place.',\n",
              " 'Good stuff, will do.',\n",
              " \"Yetunde, i'm sorry but moji and i seem too busy to be able to go shopping. Can you just please find some other way to get what you wanted us to get. Please forgive me. You can reply free via yahoo messenger.\",\n",
              " \"Carlos'll be here in a minute if you still need to buy\",\n",
              " 'Dear Voucher Holder, 2 claim this weeks offer, at your PC go to http://www.e-tlp.co.uk/expressoffer Ts&Cs apply.2 stop texts txt STOP to 80062.',\n",
              " 'PRIVATE! Your 2003 Account Statement for shows 800 un-redeemed S. I. M. points. Call 08715203652 Identifier Code: 42810 Expires 29/10/0',\n",
              " 'And of course you should make a stink!',\n",
              " 'Ok no prob...',\n",
              " \"Thursday night? Yeah, sure thing, we'll work it out then\",\n",
              " 'This is ur face test ( 1 2 3 4 5 6 7 8 9  &lt;#&gt;  ) select any number i will tell ur face astrology.... am waiting. quick reply...',\n",
              " 'Ok i am on the way to railway',\n",
              " \"Your board is working fine. The issue of overheating is also reslove. But still software inst is pending. I will come around 8'o clock.\",\n",
              " 'Urgent! Please call 0906346330. Your ABTA complimentary 4* Spanish Holiday or å£10,000 cash await collection SAE T&Cs BOX 47 PO19 2EZ 150ppm 18+',\n",
              " 'Eh ur laptop got no stock lei... He say mon muz come again to take a look c got a not...',\n",
              " 'R u still working now?',\n",
              " \"T-Mobile customer you may now claim your FREE CAMERA PHONE upgrade & a pay & go sim card for your loyalty. Call on 0845 021 3680.Offer ends 28thFeb.T&C's apply\",\n",
              " 'Hi Princess! Thank you for the pics. You are very pretty. How are you?',\n",
              " 'Dont flatter yourself... Tell that man of mine two pints of carlin in ten minutes please.... ',\n",
              " \"Night sweet, sleep well! I've just been to see The Exorcism of Emily Rose and may never sleep again! Hugs and snogs! \",\n",
              " \"Hey elaine, is today's meeting still on?\",\n",
              " \"Sorry, it's a lot of friend-of-a-friend stuff, I'm just now about to talk to the actual guy who wants to buy\",\n",
              " 'I was gonna ask you lol but i think its at 7',\n",
              " 'Aslamalaikkum....insha allah tohar beeen muht albi mufti mahfuuz...meaning same here....',\n",
              " 'Every day i use to sleep after  &lt;#&gt;  so only.',\n",
              " 'Hmmm:)how many players selected?',\n",
              " \"I'll get there at 3, unless you guys want me to come some time sooner\",\n",
              " 'Wanna do some art?! :D',\n",
              " 'Aiyo... U always c our ex one... I dunno abt mei, she haven reply... First time u reply so fast... Y so lucky not workin huh, got bao by ur sugardad ah...gee.. ',\n",
              " \"Aight no rush, I'll ask jay\",\n",
              " \"My love ! How come it took you so long to leave for Zaher's? I got your words on ym and was happy to see them but was sad you had left. I miss you\",\n",
              " 'Haha... Yup hopefully  we will lose a few kg by mon. after hip hop can go orchard and weigh again',\n",
              " 'HI HUN! IM NOT COMIN 2NITE-TELL EVERY1 IM SORRY 4 ME, HOPE U AVA GOODTIME!OLI RANG MELNITE IFINK IT MITE B SORTED,BUT IL EXPLAIN EVERYTHIN ON MON.L8RS.x',\n",
              " 'Yeah, probably earlier than that',\n",
              " 'Are you angry with me. What happen dear',\n",
              " 'Keep my payasam there if rinu brings',\n",
              " 'I pocked you up there before',\n",
              " 'I absolutely LOVE South Park! I only recently started watching the office.',\n",
              " 'Oh Howda gud gud.. Mathe en samachara chikku:-)',\n",
              " \"If u sending her home first it's ok lor. I'm not ready yet.\",\n",
              " 'One of best dialogue in cute reltnship..!! \\\\Wen i Die',\n",
              " 'I cant pick the phone right now. Pls send a message',\n",
              " 'Call me da, i am waiting for your call.',\n",
              " 'What was she looking for?',\n",
              " 'Ok i will tell her to stay out. Yeah its been tough but we are optimistic things will improve this month.',\n",
              " 'Your bill at 3 is å£33.65 so thats not bad!',\n",
              " \"I take it we didn't have the phone callon Friday. Can we assume we won't have it this year now?\",\n",
              " 'I had askd u a question some hours before. Its answer',\n",
              " 'Yup i shd haf ard 10 pages if i add figures... ÌÏ all got how many pages?',\n",
              " 'Haf u found him? I feel so stupid da v cam was working.',\n",
              " 'i am going to bed now prin',\n",
              " 'Thats cool. I want to please you...',\n",
              " 'How much is blackberry bold2 in nigeria.',\n",
              " 'I want to sent  &lt;#&gt; mesages today. Thats y. Sorry if i hurts',\n",
              " 'Oh! Shit, I thought that was your trip! Loooooool ... That just makes SO much more sense now ... *grins* and the sofa reference was ... The \\\\sleep on a couch\\\\\" link you sent me ... Wasn\\'t that how you went on your trip ? Oh ... And didn\\'t your babe go with you for that celebration with your rents?\"',\n",
              " '4mths half price Orange line rental & latest camera phones 4 FREE. Had your phone 11mths ? Call MobilesDirect free on 08000938767 to update now! or2stoptxt',\n",
              " \"I'm ok. Will do my part tomorrow\",\n",
              " 'ZOE IT JUST HIT ME 2 IM FUCKING SHITIN MYSELF IL DEFO TRY MY HARDEST 2 CUM 2MOROW LUV U MILLIONS LEKDOG',\n",
              " 'Fine. Do you remember me.',\n",
              " \"Good morning. At the repair shop--the ONLY reason i'm up at this hour.\",\n",
              " 'We have pizza if u want',\n",
              " 'Finish liao... U?',\n",
              " \"I'm home. Ard wat time will u reach?\",\n",
              " 'Just wondering, the others just took off',\n",
              " 'i thought we were doing a king of the hill thing there.',\n",
              " 'Ugh hopefully the asus ppl dont randomly do a reformat.',\n",
              " 'Gud mrng dear hav a nice day',\n",
              " 'Sorry sent blank msg again. Yup but trying 2 do some serious studying now.',\n",
              " 'Will do. Was exhausted on train this morning. Too much wine and pie. You sleep well too',\n",
              " 'Ladies first and genus second k .',\n",
              " 'I HAVE A DATE ON SUNDAY WITH WILL!!',\n",
              " 'Thank god they are in bed!',\n",
              " 'Also andros ice etc etc',\n",
              " 'Happy new year. Hope you are having a good semester',\n",
              " 'Ok then i come n pick u at engin?',\n",
              " 'Shhhhh nobody is supposed to know!',\n",
              " 'C movie is juz last minute decision mah. Juz watch 2 lar but i tot Ì_ not interested.',\n",
              " \"Evry Emotion dsn't hav Words.Evry Wish dsn't hav Prayrs.. If u Smile,D World is wit u.Othrwise even d Drop of Tear dsn't lik 2 Stay wit u.So b happy.. Good morning, keep smiling:-)\",\n",
              " 'HIYA STU WOT U UP 2.IM IN SO MUCH TRUBLE AT HOME AT MOMENT EVONE HATES ME EVEN U! WOT THE HELL AV I DONE NOW? Y WONT U JUST TELL ME TEXT BCK PLEASE LUV DAN ',\n",
              " \"Probably not, I'm almost out of gas and I get some cash tomorrow\",\n",
              " 'If you r @ home then come down within 5 min',\n",
              " \"I'm not sure if its still available though\",\n",
              " 'Had your contract mobile 11 Mnths? Latest Motorola, Nokia etc. all FREE! Double Mins & Text on Orange tariffs. TEXT YES for callback, no to remove from records.',\n",
              " 'Customer service annoncement. You have a New Years delivery waiting for you. Please call 07046744435 now to arrange delivery',\n",
              " 'If india win or level series means this is record:)',\n",
              " 'excellent. I spent  &lt;#&gt;  years in the Air Force. Iraq and afghanistan. I am stable and honest. do you like traveling?',\n",
              " \"ÌÏ predict wat time Ì_'ll finish buying?\",\n",
              " 'Ya ok, vikky vl c witin  &lt;#&gt; mins and il reply u..',\n",
              " 'Sir, I need AXIS BANK account no and bank address.',\n",
              " 'We are okay. Going to sleep now. Later',\n",
              " 'You are being ripped off! Get your mobile content from www.clubmoby.com call 08717509990 poly/true/Pix/Ringtones/Games six downloads for only 3',\n",
              " 'Please da call me any mistake from my side sorry da. Pls da goto doctor.',\n",
              " 'Mobile Club: Choose any of the top quality items for your mobile. 7cfca1a',\n",
              " 'They r giving a second chance to rahul dengra.',\n",
              " 'Win the newest åÒHarry Potter and the Order of the Phoenix (Book 5) reply HARRY, answer 5 questions - chance to be the first among readers!',\n",
              " 'This is wishing you a great day. Moji told me about your offer and as always i was speechless. You offer so easily to go to great lengths on my behalf and its stunning. My exam is next friday. After that i will keep in touch more. Sorry.',\n",
              " 'Night night, see you tomorrow',\n",
              " 'A bit of Ur smile is my hppnss, a drop of Ur tear is my sorrow, a part of Ur heart is my life, a heart like mine wil care for U, forevr as my GOODFRIEND',\n",
              " 'Did u find out what time the bus is at coz i need to sort some stuff out.',\n",
              " 'If i start sending blackberry torch to nigeria will you find buyer for me?like 4a month. And tell dad not to buy bb from anyone oh.',\n",
              " 'Can you plz tell me the ans. BSLVYL sent via fullonsms.com',\n",
              " 'Latest News! Police station toilet stolen, cops have nothing to go on!',\n",
              " 'Your next amazing xxx PICSFREE1 video will be sent to you enjoy! If one vid is not enough for 2day text back the keyword PICSFREE1 to get the next video.',\n",
              " 'That\\x89Û÷s the thing with apes, u can fight to the death to keep something, but the minute they have it when u let go, thats it!',\n",
              " \"You've won tkts to the EURO2004 CUP FINAL or å£800 CASH, to collect CALL 09058099801 b4190604, POBOX 7876150ppm\",\n",
              " 'Then. You are eldest know.',\n",
              " 'Oh. U must have taken your REAL Valentine out shopping first.',\n",
              " 'Hello. Damn this christmas thing. I think i have decided to keep this mp3 that doesnt work.',\n",
              " 'I am thinking of going down to reg for pract lessons.. Flung my advance.. Haha wat time u going?',\n",
              " '....photoshop makes my computer shut down.',\n",
              " 'Ill call you evening ill some ideas.',\n",
              " 'SERIOUSLY. TELL HER THOSE EXACT WORDS RIGHT NOW.',\n",
              " 'Hi kindly give us back our documents which we submitted for loan from STAPATI',\n",
              " 'Those were my exact intentions',\n",
              " 'So the sun is anti sleep medicine.',\n",
              " 'Also sir, i sent you an email about how to log into the usc payment portal. I.ll send you another message that should explain how things are back home. Have a great weekend.',\n",
              " 'Hey you gave them your photo when you registered for driving ah? Tmr wanna meet at yck? ',\n",
              " 'No no. I will check all rooms befor activities',\n",
              " 'Crucify is c not s. You should have told me earlier.',\n",
              " 'I emailed yifeng my part oredi.. Can Ì_ get it fr him..',\n",
              " 'Mmmmm ... It was sooooo good to wake to your words this morning, my Love!! Mmmm fuck ... I love you too, my Lion ... *devouring kiss from across the sea*',\n",
              " 'We still on for tonight?',\n",
              " 'Double Mins & 1000 txts on Orange tariffs. Latest Motorola, SonyEricsson & Nokia with Bluetooth FREE! Call MobileUpd8 on 08000839402 or call2optout/HF8',\n",
              " 'How much you got for cleaning',\n",
              " \"Mmmm ... Fuck ... Not fair ! You know my weaknesses ! *grins* *pushes you to your knee's* *exposes my belly and pulls your head to it* Don't forget ... I know yours too *wicked smile*\",\n",
              " 'Tomorrow i am not going to theatre. . . So i can come wherever u call me. . . Tell me where and when to come tomorrow',\n",
              " \"Lol no ouch but wish i'd stayed out a bit longer\",\n",
              " 'Ok. I only ask abt e movie. U wan ktv oso?',\n",
              " 'My exam is for february 4. Wish you a great day.',\n",
              " 'Apps class varaya elaya.',\n",
              " 'Me n him so funny...',\n",
              " 'Please call our customer service representative on FREEPHONE 0808 145 4742 between 9am-11pm as you have WON a guaranteed å£1000 cash or å£5000 prize!',\n",
              " 'Urgent! call 09066350750 from your landline. Your complimentary 4* Ibiza Holiday or 10,000 cash await collection SAE T&Cs PO BOX 434 SK3 8WP 150 ppm 18+ ',\n",
              " \"That's y u haf 2 keep me busy...\",\n",
              " 'Jolly good! By the way,  will give u tickets for sat eve 7.30. Speak before then x',\n",
              " 'Its too late:)but its k.wish you the same.',\n",
              " 'Sent me ur email id soon',\n",
              " \"Sorry I missed your call let's talk when you have the time. I'm on 07090201529\",\n",
              " 'A boy was late 2 home. His father: \\\\POWER OF FRNDSHIP\\\\\"\"',\n",
              " 'Jus finish blowing my hair. U finish dinner already?',\n",
              " \"I'm not coming home 4 dinner.\",\n",
              " 'Are we doing the norm tomorrow? I finish just a 4.15 cos of st tests. Need to sort library stuff out at some point tomo - got letter from today - access til end march so i better get move on!',\n",
              " 'Can you open the door?',\n",
              " 'Not able to do anything.',\n",
              " 'Ok.',\n",
              " \"It's cool, we can last a little while. Getting more any time soon?\",\n",
              " 'Congrats! 1 year special cinema pass for 2 is yours. call 09061209465 now! C Suprman V, Matrix3, StarWars3, etc all 4 FREE! bx420-ip4-5we. 150pm. Dont miss out!',\n",
              " 'Hi :)finally i completed the course:)',\n",
              " 'Ok both our days. So what are you making for dinner tonite? Am I invited?',\n",
              " 'Onum ela pa. Normal than.',\n",
              " 'What Today-sunday..sunday is holiday..so no work..',\n",
              " 'Yo! Howz u? girls never rang after india. L',\n",
              " 'Thank you baby! I cant wait to taste the real thing...',\n",
              " 'You are awarded a SiPix Digital Camera! call 09061221061 from landline. Delivery within 28days. T Cs Box177. M221BP. 2yr warranty. 150ppm. 16 . p på£3.99',\n",
              " \"Hi Dear Call me its urgnt. I don't know whats your problem. You don't want to work or if you have any other problem at least tell me. Wating for your reply.\",\n",
              " 'Thank you, winner notified by sms. Good Luck! No future marketing reply STOP to 84122 customer services 08450542832',\n",
              " 'Will be office around 4 pm. Now i am going hospital.',\n",
              " 'Storming msg: Wen u lift d phne, u say \\\\HELLO\\\\\" Do u knw wt is d real meaning of HELLO?? . . . It\\'s d name of a girl..! . . . Yes.. And u knw who is dat girl?? \\\\\"Margaret Hello\\\\\" She is d girlfrnd f Grahmbell who invnted telphone... . . . . Moral:One can 4get d name of a person',\n",
              " \"Oops my phone died and I didn't even know. Yeah I like it better.\",\n",
              " 'Whatsup there. Dont u want to sleep',\n",
              " 'Ya, told..she was asking wats matter?',\n",
              " \"Sorry, I'll call later ok bye\",\n",
              " 'The bus leaves at  &lt;#&gt; ',\n",
              " \"A famous quote : when you develop the ability to listen to 'anything' unconditionally without losing your temper or self confidence, it means you are ......... 'MARRIED'\",\n",
              " 'I anything lor.',\n",
              " 'Jus came back fr lunch wif my sis only. U leh?',\n",
              " 'on a Tuesday night r u 4 real',\n",
              " \"So i'm doing a list of buyers.\",\n",
              " 'Abeg, make profit. But its a start. Are you using it to get sponsors for the next event?',\n",
              " \"I probably won't eat at all today. I think I'm gonna pop. How was your weekend? Did u miss me?\",\n",
              " \"Crazy ar he's married. ÌÏ like gd looking guys not me. My frens like say he's korean leona's fave but i dun thk he is. Aft some thinking mayb most prob i'll go.\",\n",
              " 'Kinda. First one gets in at twelve! Aah. Speak tomo',\n",
              " 'Come to medical college at 7pm ......forward it da',\n",
              " \"Hi this is yijue... It's regarding the 3230 textbook it's intro to algorithms second edition... I'm selling it for $50...\",\n",
              " 'Hottest pics straight to your phone!! See me getting Wet and Wanting, just for you xx Text PICS to 89555 now! txt costs 150p textoperator g696ga 18 XxX',\n",
              " \"U don't remember that old commercial?\",\n",
              " 'Its so common hearin How r u? Wat r u doing? How was ur day? So let me ask u something different. Did u smile today? If not, do it now.... Gud evng.',\n",
              " 'Free msg. Sorry, a service you ordered from 81303 could not be delivered as you do not have sufficient credit. Please top up to receive the service.',\n",
              " \"No sir. That's why i had an 8-hr trip on the bus last week. Have another audition next wednesday but i think i might drive this time.\",\n",
              " 'Your free ringtone is waiting to be collected. Simply text the password \\\\MIX\\\\\" to 85069 to verify. Get Usher and Britney. FML',\n",
              " 'I have no idea where you are',\n",
              " \"GSOH? Good with SPAM the ladies?U could b a male gigolo? 2 join the uk's fastest growing mens club reply ONCALL. mjzgroup. 08714342399.2stop reply STOP. msg@å£1.50rcvd\",\n",
              " \"No you'll just get a headache trying to figure it out. U can trust me to do the math. I promise. O:-)\",\n",
              " 'FREE camera phones with linerental from 4.49/month with 750 cross ntwk mins. 1/2 price txt bundle deals also avble. Call 08001950382 or call2optout/J MF',\n",
              " 'Audrie lousy autocorrect',\n",
              " 'Its ok..come to my home it vl nice to meet and v can chat..',\n",
              " 'Now only i reached home. . . I am very tired now. . I will come tomorro',\n",
              " 'Yes there were many sweets',\n",
              " \"Doc prescribed me morphine cause the other pain meds aren't enough. Waiting for my mom to bring it. That med should kick in fast so I'm gonna try to be on later\",\n",
              " 'Pick you up bout 7.30ish? What time are  and that going?',\n",
              " 'K..give back my thanks.',\n",
              " 'Good sleep is about rhythm. The person has to establish a rhythm that the body will learn and use. If you want to know more :-)',\n",
              " \"Don't look back at the building because you have no coat and i don't want you to get more sick. Just hurry home and wear a coat to the gym!!!\",\n",
              " 'You have won a guaranteed 32000 award or maybe even å£1000 cash to claim ur award call free on 0800 ..... (18+). Its a legitimat efreefone number wat do u think???',\n",
              " 'Thats cool. Where should i cum? On you or in you? :)',\n",
              " 'Natalie (20/F) is inviting you to be her friend. Reply YES-165 or NO-165 See her: www.SMS.ac/u/natalie2k9 STOP? Send STOP FRND to 62468',\n",
              " 'I got to video tape pple type in message lor. U so free wan 2 help me? Hee... Cos i noe u wan 2 watch infernal affairs so ask u along. Asking shuhui oso.',\n",
              " '* Was really good to see you the other day dudette, been missing you!',\n",
              " \"Nope but i'll b going 2 sch on fri quite early lor cos mys sis got paper in da morn :-)\",\n",
              " 'One small prestige problem now.',\n",
              " 'Got meh... When?',\n",
              " 'I cant pick the phone right now. Pls send a message',\n",
              " \"I wasn't well babe, i have swollen glands at my throat ... What did you end up doing ?\",\n",
              " 'Try neva mate!!',\n",
              " 'Which channel:-):-):):-).',\n",
              " 'HI DARLIN ITS KATE ARE U UP FOR DOIN SOMETHIN TONIGHT? IM GOING TO A PUB CALLED THE SWAN OR SOMETHING WITH MY PARENTS FOR ONE DRINK SO PHONE ME IF U CAN',\n",
              " \"No. It's not pride. I'm almost  &lt;#&gt;  years old and shouldn't be takin money from my kid. You're not supposed to have to deal with this stuff. This is grownup stuff--why i don't tell you.\",\n",
              " \"Also that chat was awesome but don't make it regular unless you can see her in person\",\n",
              " 'I have to take exam with march 3',\n",
              " 'Your credits have been topped up for http://www.bubbletext.com Your renewal Pin is tgxxrz',\n",
              " 'I will take care of financial problem.i will help:)',\n",
              " 'No. 1 Nokia Tone 4 ur mob every week! Just txt NOK to 87021. 1st Tone FREE ! so get txtin now and tell ur friends. 150p/tone. 16 reply HL 4info',\n",
              " 'Back 2 work 2morro half term over! Can U C me 2nite 4 some sexy passion B4 I have 2 go back? Chat NOW 09099726481 Luv DENA Calls å£1/minMobsmoreLKPOBOX177HP51FL',\n",
              " 'You have 1 new voicemail. Please call 08719181513.',\n",
              " \"That's significant but dont worry.\",\n",
              " \"Am on a train back from northampton so i'm afraid not! I'm staying skyving off today ho ho! Will be around wednesday though. Do you fancy the comedy club this week by the way?\",\n",
              " 'Congratulations ur awarded either å£500 of CD gift vouchers & Free entry 2 our å£100 weekly draw txt MUSIC to 87066 TnCs www.Ldew.com1win150ppmx3age16',\n",
              " 'Well its not like you actually called someone a punto. That woulda been worse.',\n",
              " 'Dear friends, sorry for the late information. Today is the birthday of our loving Ar.Praveesh. for more details log on to face book and see. Its his number + &lt;#&gt; . Dont miss a delicious treat.',\n",
              " 'Great! I have to run now so ttyl!',\n",
              " 'Oh great. I.ll disturb him more so that we can talk.',\n",
              " 'So u gonna get deus ex?',\n",
              " ...]"
            ]
          },
          "execution_count": 47,
          "metadata": {},
          "output_type": "execute_result"
        }
      ],
      "source": [
        "y_train"
      ]
    },
    {
      "cell_type": "code",
      "execution_count": null,
      "metadata": {
        "colab": {
          "base_uri": "https://localhost:8080/",
          "height": 53
        },
        "id": "5igFJWER8fqD",
        "outputId": "835b5268-bb38-4a54-a614-ec947e994b90"
      },
      "outputs": [
        {
          "data": {
            "application/vnd.google.colaboratory.intrinsic+json": {
              "type": "string"
            },
            "text/plain": [
              "'I sent my scores to sophas and i had to do secondary application for a few schools. I think if you are thinking of applying, do a research on cost also. Contact joke ogunrinde, her school is one me the less expensive ones'"
            ]
          },
          "execution_count": 55,
          "metadata": {},
          "output_type": "execute_result"
        }
      ],
      "source": [
        "y_trai = y_train[2]\n",
        "y_trai"
      ]
    },
    {
      "cell_type": "code",
      "execution_count": null,
      "metadata": {
        "colab": {
          "base_uri": "https://localhost:8080/"
        },
        "id": "MfaZ5ST98fqE",
        "outputId": "ca0e6a2c-cdf3-4020-c56f-17475b110189"
      },
      "outputs": [
        {
          "data": {
            "text/plain": [
              "1"
            ]
          },
          "execution_count": 56,
          "metadata": {},
          "output_type": "execute_result"
        }
      ],
      "source": [
        "predict_input = tokenizer_fine_tuned.encode(\n",
        "    y_trai,\n",
        "    truncation = True,\n",
        "    padding = True,\n",
        "    return_tensors = 'tf'\n",
        ")\n",
        "\n",
        "output = model_fine_tuned(predict_input)[0]\n",
        "\n",
        "prediction_value = tf.argmax(output, axis = 1).numpy()[0]\n",
        "\n",
        "prediction_value"
      ]
    }
  ],
  "metadata": {
    "accelerator": "GPU",
    "colab": {
      "collapsed_sections": [
        "_LiDA0Nd8fpl",
        "84gGONjn8fpp",
        "zX9Ytdfx8fpt",
        "ASQfgABh8fpv",
        "zbvm5nH38fpz",
        "c3E8IJ3l8fp2",
        "ISn0mQil8fp3",
        "J1DjKVwv8fp4",
        "CJNfm7r88fqA",
        "o5NwVFHK8fqC"
      ],
      "provenance": [],
      "include_colab_link": true
    },
    "kernelspec": {
      "display_name": "Python 3",
      "name": "python3"
    },
    "language_info": {
      "name": "python"
    }
  },
  "nbformat": 4,
  "nbformat_minor": 0
}